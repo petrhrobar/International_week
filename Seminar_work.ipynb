{
 "cells": [
  {
   "cell_type": "markdown",
   "metadata": {},
   "source": [
    "# Seminar Work - NLP Part\n",
    "   ### Petr Hrobar, Filip Hron, Veronika Sulakova, Barbora Kupkova"
   ]
  },
  {
   "cell_type": "markdown",
   "metadata": {},
   "source": [
    "#### Importing of all needed modules"
   ]
  },
  {
   "cell_type": "code",
   "execution_count": 5,
   "metadata": {},
   "outputs": [],
   "source": [
    "# Importing all modules\n",
    "import pandas as pd\n",
    "import numpy as np\n",
    "import seaborn as sns\n",
    "import matplotlib.pyplot as plt\n",
    "\n",
    "# Style for plots\n",
    "sns.set()\n",
    "\n",
    "# Random seed for replicability\n",
    "np.random.seed(101)"
   ]
  },
  {
   "cell_type": "markdown",
   "metadata": {},
   "source": [
    "#### Loading The Dataset (we use only 25% for the sake of speed)"
   ]
  },
  {
   "cell_type": "code",
   "execution_count": 6,
   "metadata": {},
   "outputs": [
    {
     "data": {
      "text/html": [
       "<div>\n",
       "<style scoped>\n",
       "    .dataframe tbody tr th:only-of-type {\n",
       "        vertical-align: middle;\n",
       "    }\n",
       "\n",
       "    .dataframe tbody tr th {\n",
       "        vertical-align: top;\n",
       "    }\n",
       "\n",
       "    .dataframe thead th {\n",
       "        text-align: right;\n",
       "    }\n",
       "</style>\n",
       "<table border=\"1\" class=\"dataframe\">\n",
       "  <thead>\n",
       "    <tr style=\"text-align: right;\">\n",
       "      <th></th>\n",
       "      <th>index</th>\n",
       "      <th>Hotel_Address</th>\n",
       "      <th>Additional_Number_of_Scoring</th>\n",
       "      <th>Review_Date</th>\n",
       "      <th>Average_Score</th>\n",
       "      <th>Hotel_Name</th>\n",
       "      <th>Reviewer_Nationality</th>\n",
       "      <th>Negative_Review</th>\n",
       "      <th>Review_Total_Negative_Word_Counts</th>\n",
       "      <th>Total_Number_of_Reviews</th>\n",
       "      <th>Positive_Review</th>\n",
       "      <th>Review_Total_Positive_Word_Counts</th>\n",
       "      <th>Total_Number_of_Reviews_Reviewer_Has_Given</th>\n",
       "      <th>Reviewer_Score</th>\n",
       "      <th>Tags</th>\n",
       "      <th>days_since_review</th>\n",
       "      <th>lat</th>\n",
       "      <th>lng</th>\n",
       "    </tr>\n",
       "  </thead>\n",
       "  <tbody>\n",
       "    <tr>\n",
       "      <th>0</th>\n",
       "      <td>314772</td>\n",
       "      <td>Doctor Carulla 25 Sarri St Gervasi 08017 Barce...</td>\n",
       "      <td>32</td>\n",
       "      <td>5/2/2016</td>\n",
       "      <td>9.2</td>\n",
       "      <td>Primero Primera</td>\n",
       "      <td>United Arab Emirates</td>\n",
       "      <td>Nothing The place was just perfect</td>\n",
       "      <td>8</td>\n",
       "      <td>261</td>\n",
       "      <td>Great location very clean rooms excellent foo...</td>\n",
       "      <td>24</td>\n",
       "      <td>7</td>\n",
       "      <td>10.0</td>\n",
       "      <td>[' Leisure trip ', ' Couple ', ' Double or Twi...</td>\n",
       "      <td>458 day</td>\n",
       "      <td>41.400281</td>\n",
       "      <td>2.129743</td>\n",
       "    </tr>\n",
       "  </tbody>\n",
       "</table>\n",
       "</div>"
      ],
      "text/plain": [
       "    index                                      Hotel_Address  \\\n",
       "0  314772  Doctor Carulla 25 Sarri St Gervasi 08017 Barce...   \n",
       "\n",
       "   Additional_Number_of_Scoring Review_Date  Average_Score       Hotel_Name  \\\n",
       "0                            32    5/2/2016            9.2  Primero Primera   \n",
       "\n",
       "     Reviewer_Nationality                       Negative_Review  \\\n",
       "0   United Arab Emirates    Nothing The place was just perfect    \n",
       "\n",
       "   Review_Total_Negative_Word_Counts  Total_Number_of_Reviews  \\\n",
       "0                                  8                      261   \n",
       "\n",
       "                                     Positive_Review  \\\n",
       "0   Great location very clean rooms excellent foo...   \n",
       "\n",
       "   Review_Total_Positive_Word_Counts  \\\n",
       "0                                 24   \n",
       "\n",
       "   Total_Number_of_Reviews_Reviewer_Has_Given  Reviewer_Score  \\\n",
       "0                                           7            10.0   \n",
       "\n",
       "                                                Tags days_since_review  \\\n",
       "0  [' Leisure trip ', ' Couple ', ' Double or Twi...           458 day   \n",
       "\n",
       "         lat       lng  \n",
       "0  41.400281  2.129743  "
      ]
     },
     "execution_count": 6,
     "metadata": {},
     "output_type": "execute_result"
    }
   ],
   "source": [
    "# load the data and subset it \n",
    "df = pd.read_csv('Hotel_Reviews.csv')\n",
    "\n",
    "# Use only 25 percents of observations\n",
    "df = df.sample(frac = 0.25).reset_index()\n",
    "\n",
    "# Check one observation\n",
    "df.head(1)"
   ]
  },
  {
   "cell_type": "markdown",
   "metadata": {},
   "source": [
    "#### What is the number of rown and columns of loaded dataset?"
   ]
  },
  {
   "cell_type": "code",
   "execution_count": 7,
   "metadata": {},
   "outputs": [
    {
     "data": {
      "text/plain": [
       "' Shape of the dataset is (128934, 18)'"
      ]
     },
     "execution_count": 7,
     "metadata": {},
     "output_type": "execute_result"
    }
   ],
   "source": [
    "(f\" Shape of the dataset is {df.shape}\")"
   ]
  },
  {
   "cell_type": "markdown",
   "metadata": {},
   "source": [
    "#### What are the columns names"
   ]
  },
  {
   "cell_type": "code",
   "execution_count": 8,
   "metadata": {},
   "outputs": [
    {
     "name": "stdout",
     "output_type": "stream",
     "text": [
      "Index(['index', 'Hotel_Address', 'Additional_Number_of_Scoring', 'Review_Date',\n",
      "       'Average_Score', 'Hotel_Name', 'Reviewer_Nationality',\n",
      "       'Negative_Review', 'Review_Total_Negative_Word_Counts',\n",
      "       'Total_Number_of_Reviews', 'Positive_Review',\n",
      "       'Review_Total_Positive_Word_Counts',\n",
      "       'Total_Number_of_Reviews_Reviewer_Has_Given', 'Reviewer_Score', 'Tags',\n",
      "       'days_since_review', 'lat', 'lng'],\n",
      "      dtype='object')\n"
     ]
    }
   ],
   "source": [
    "print(df.columns)"
   ]
  },
  {
   "cell_type": "markdown",
   "metadata": {},
   "source": [
    "# EDA - Exploratory Data Analysis"
   ]
  },
  {
   "cell_type": "markdown",
   "metadata": {},
   "source": [
    "#### What is the distribution of Reviews Scores"
   ]
  },
  {
   "cell_type": "code",
   "execution_count": 9,
   "metadata": {},
   "outputs": [
    {
     "data": {
      "image/png": "[encoded data removed]",
      "text/plain": [
       "<Figure size 720x360 with 1 Axes>"
      ]
     },
     "metadata": {},
     "output_type": "display_data"
    }
   ],
   "source": [
    "# Show reviews scores as a histogram \n",
    "df.Reviewer_Score.hist(figsize = (10, 5));\n",
    "\n",
    "# Modify the image with title\n",
    "plt.title('Original Distribution of Review Scores', size = 15);"
   ]
  },
  {
   "cell_type": "markdown",
   "metadata": {},
   "source": [
    "#### We need to discretize the distribution - we will use quantiles"
   ]
  },
  {
   "cell_type": "code",
   "execution_count": 10,
   "metadata": {},
   "outputs": [
    {
     "name": "stdout",
     "output_type": "stream",
     "text": [
      "[5.8 7.5 8.8 9.6]\n"
     ]
    }
   ],
   "source": [
    "# Quantiles\n",
    "quantiles = np.quantile(df.Reviewer_Score, q = [0.10, 0.25, 0.5, 0.75])\n",
    "\n",
    "# Show us the bounds\n",
    "print(quantiles)"
   ]
  },
  {
   "cell_type": "markdown",
   "metadata": {},
   "source": [
    "#### What is the maximal and the minumal values of Review score?"
   ]
  },
  {
   "cell_type": "code",
   "execution_count": 11,
   "metadata": {},
   "outputs": [
    {
     "name": "stdout",
     "output_type": "stream",
     "text": [
      " Maximal Score is 10.0 \n",
      "  Minimal Score is 2.5\n"
     ]
    }
   ],
   "source": [
    "print(\n",
    "(f\" Maximal Score is {df.Reviewer_Score.max()}\"),\n",
    "\"\\n\",\n",
    "(f\" Minimal Score is {df.Reviewer_Score.min()}\"))"
   ]
  },
  {
   "cell_type": "markdown",
   "metadata": {},
   "source": [
    "#### Discreatize the values"
   ]
  },
  {
   "cell_type": "code",
   "execution_count": 12,
   "metadata": {},
   "outputs": [],
   "source": [
    "# Create a new columns\n",
    "df[\"Reviewer_Score_discrete\"] =  pd.cut(df[\"Reviewer_Score\"], \n",
    "                   bins=[0, np.min(df[\"Reviewer_Score\"]), \n",
    "                         \n",
    "                         # Use Quantiles as the bounds\n",
    "                         quantiles[0], \n",
    "                         quantiles[1], \n",
    "                         quantiles[2], np.max(df[\"Reviewer_Score\"])],\n",
    "                                        \n",
    "                         # Label The intervals              \n",
    "                   labels = ['VERY BAD', 'BAD', 'MEDIUM', 'GOOD', 'EXCELENT'])\n",
    "\n",
    "#df[\"Reviewer_Score_discrete\"]"
   ]
  },
  {
   "cell_type": "markdown",
   "metadata": {},
   "source": [
    "#### Distribution of discretize review"
   ]
  },
  {
   "cell_type": "code",
   "execution_count": 13,
   "metadata": {},
   "outputs": [
    {
     "name": "stderr",
     "output_type": "stream",
     "text": [
      "D:\\Python\\envs\\NLP_SEMINARKA_NEW\\lib\\site-packages\\seaborn\\_decorators.py:43: FutureWarning: Pass the following variable as a keyword arg: x. From version 0.12, the only valid positional argument will be `data`, and passing other arguments without an explicit keyword will result in an error or misinterpretation.\n",
      "  FutureWarning\n"
     ]
    },
    {
     "data": {
      "image/png": "[encoded data removed]",
      "text/plain": [
       "<Figure size 864x432 with 1 Axes>"
      ]
     },
     "metadata": {},
     "output_type": "display_data"
    }
   ],
   "source": [
    "# For the figure size\n",
    "figs, axes = plt.subplots(1, 1, figsize = (12, 6));\n",
    "\n",
    "# bar plot of values\n",
    "sns.countplot(df[\"Reviewer_Score_discrete\"], ax = axes);"
   ]
  },
  {
   "cell_type": "markdown",
   "metadata": {},
   "source": [
    "# Top 20 reviewed hotels based on the number of reviews"
   ]
  },
  {
   "cell_type": "markdown",
   "metadata": {},
   "source": [
    "#### Aggregation - What are the hotels with the highest review score (top 15 - we also take into account number of reviews)"
   ]
  },
  {
   "cell_type": "code",
   "execution_count": 14,
   "metadata": {},
   "outputs": [],
   "source": [
    "df_merged = (df.\n",
    " groupby('Hotel_Name').\n",
    " agg(n_hodnoceni = ('Total_Number_of_Reviews', np.size),\n",
    "     mean_score = ('Reviewer_Score', np.mean),\n",
    "     min_score = ('Reviewer_Score', np.min),\n",
    "     max_score = ('Reviewer_Score', np.max)))"
   ]
  },
  {
   "cell_type": "code",
   "execution_count": 16,
   "metadata": {},
   "outputs": [
    {
     "data": {
      "text/html": [
       "<div>\n",
       "<style scoped>\n",
       "    .dataframe tbody tr th:only-of-type {\n",
       "        vertical-align: middle;\n",
       "    }\n",
       "\n",
       "    .dataframe tbody tr th {\n",
       "        vertical-align: top;\n",
       "    }\n",
       "\n",
       "    .dataframe thead th {\n",
       "        text-align: right;\n",
       "    }\n",
       "</style>\n",
       "<table border=\"1\" class=\"dataframe\">\n",
       "  <thead>\n",
       "    <tr style=\"text-align: right;\">\n",
       "      <th></th>\n",
       "      <th>n_hodnoceni</th>\n",
       "      <th>mean_score</th>\n",
       "      <th>min_score</th>\n",
       "      <th>max_score</th>\n",
       "    </tr>\n",
       "    <tr>\n",
       "      <th>Hotel_Name</th>\n",
       "      <th></th>\n",
       "      <th></th>\n",
       "      <th></th>\n",
       "      <th></th>\n",
       "    </tr>\n",
       "  </thead>\n",
       "  <tbody>\n",
       "    <tr>\n",
       "      <th>Britannia International Hotel Canary Wharf</th>\n",
       "      <td>1181</td>\n",
       "      <td>6.824047</td>\n",
       "      <td>2.5</td>\n",
       "      <td>10.0</td>\n",
       "    </tr>\n",
       "    <tr>\n",
       "      <th>Park Plaza Westminster Bridge London</th>\n",
       "      <td>1055</td>\n",
       "      <td>8.620664</td>\n",
       "      <td>2.5</td>\n",
       "      <td>10.0</td>\n",
       "    </tr>\n",
       "    <tr>\n",
       "      <th>Strand Palace Hotel</th>\n",
       "      <td>1055</td>\n",
       "      <td>8.115735</td>\n",
       "      <td>2.5</td>\n",
       "      <td>10.0</td>\n",
       "    </tr>\n",
       "    <tr>\n",
       "      <th>Copthorne Tara Hotel London Kensington</th>\n",
       "      <td>853</td>\n",
       "      <td>8.063775</td>\n",
       "      <td>2.5</td>\n",
       "      <td>10.0</td>\n",
       "    </tr>\n",
       "    <tr>\n",
       "      <th>DoubleTree by Hilton Hotel London Tower of London</th>\n",
       "      <td>799</td>\n",
       "      <td>8.656195</td>\n",
       "      <td>2.5</td>\n",
       "      <td>10.0</td>\n",
       "    </tr>\n",
       "    <tr>\n",
       "      <th>Holiday Inn London Kensington</th>\n",
       "      <td>700</td>\n",
       "      <td>7.770714</td>\n",
       "      <td>2.5</td>\n",
       "      <td>10.0</td>\n",
       "    </tr>\n",
       "    <tr>\n",
       "      <th>Grand Royale London Hyde Park</th>\n",
       "      <td>683</td>\n",
       "      <td>7.474671</td>\n",
       "      <td>2.5</td>\n",
       "      <td>10.0</td>\n",
       "    </tr>\n",
       "    <tr>\n",
       "      <th>Intercontinental London The O2</th>\n",
       "      <td>676</td>\n",
       "      <td>9.384763</td>\n",
       "      <td>3.3</td>\n",
       "      <td>10.0</td>\n",
       "    </tr>\n",
       "    <tr>\n",
       "      <th>Millennium Gloucester Hotel London</th>\n",
       "      <td>656</td>\n",
       "      <td>7.731098</td>\n",
       "      <td>2.5</td>\n",
       "      <td>10.0</td>\n",
       "    </tr>\n",
       "    <tr>\n",
       "      <th>Hilton London Metropole</th>\n",
       "      <td>636</td>\n",
       "      <td>7.276258</td>\n",
       "      <td>2.5</td>\n",
       "      <td>10.0</td>\n",
       "    </tr>\n",
       "    <tr>\n",
       "      <th>Park Plaza London Riverbank</th>\n",
       "      <td>593</td>\n",
       "      <td>8.242833</td>\n",
       "      <td>2.5</td>\n",
       "      <td>10.0</td>\n",
       "    </tr>\n",
       "    <tr>\n",
       "      <th>Park Plaza County Hall London</th>\n",
       "      <td>573</td>\n",
       "      <td>8.460908</td>\n",
       "      <td>2.5</td>\n",
       "      <td>10.0</td>\n",
       "    </tr>\n",
       "    <tr>\n",
       "      <th>M by Montcalm Shoreditch London Tech City</th>\n",
       "      <td>553</td>\n",
       "      <td>9.041230</td>\n",
       "      <td>4.2</td>\n",
       "      <td>10.0</td>\n",
       "    </tr>\n",
       "    <tr>\n",
       "      <th>Blakemore Hyde Park</th>\n",
       "      <td>533</td>\n",
       "      <td>8.535460</td>\n",
       "      <td>2.5</td>\n",
       "      <td>10.0</td>\n",
       "    </tr>\n",
       "    <tr>\n",
       "      <th>Hilton London Wembley</th>\n",
       "      <td>522</td>\n",
       "      <td>8.831418</td>\n",
       "      <td>3.8</td>\n",
       "      <td>10.0</td>\n",
       "    </tr>\n",
       "  </tbody>\n",
       "</table>\n",
       "</div>"
      ],
      "text/plain": [
       "                                                   n_hodnoceni  mean_score  \\\n",
       "Hotel_Name                                                                   \n",
       "Britannia International Hotel Canary Wharf                1181    6.824047   \n",
       "Park Plaza Westminster Bridge London                      1055    8.620664   \n",
       "Strand Palace Hotel                                       1055    8.115735   \n",
       "Copthorne Tara Hotel London Kensington                     853    8.063775   \n",
       "DoubleTree by Hilton Hotel London Tower of London          799    8.656195   \n",
       "Holiday Inn London Kensington                              700    7.770714   \n",
       "Grand Royale London Hyde Park                              683    7.474671   \n",
       "Intercontinental London The O2                             676    9.384763   \n",
       "Millennium Gloucester Hotel London                         656    7.731098   \n",
       "Hilton London Metropole                                    636    7.276258   \n",
       "Park Plaza London Riverbank                                593    8.242833   \n",
       "Park Plaza County Hall London                              573    8.460908   \n",
       "M by Montcalm Shoreditch London Tech City                  553    9.041230   \n",
       "Blakemore Hyde Park                                        533    8.535460   \n",
       "Hilton London Wembley                                      522    8.831418   \n",
       "\n",
       "                                                   min_score  max_score  \n",
       "Hotel_Name                                                               \n",
       "Britannia International Hotel Canary Wharf               2.5       10.0  \n",
       "Park Plaza Westminster Bridge London                     2.5       10.0  \n",
       "Strand Palace Hotel                                      2.5       10.0  \n",
       "Copthorne Tara Hotel London Kensington                   2.5       10.0  \n",
       "DoubleTree by Hilton Hotel London Tower of London        2.5       10.0  \n",
       "Holiday Inn London Kensington                            2.5       10.0  \n",
       "Grand Royale London Hyde Park                            2.5       10.0  \n",
       "Intercontinental London The O2                           3.3       10.0  \n",
       "Millennium Gloucester Hotel London                       2.5       10.0  \n",
       "Hilton London Metropole                                  2.5       10.0  \n",
       "Park Plaza London Riverbank                              2.5       10.0  \n",
       "Park Plaza County Hall London                            2.5       10.0  \n",
       "M by Montcalm Shoreditch London Tech City                4.2       10.0  \n",
       "Blakemore Hyde Park                                      2.5       10.0  \n",
       "Hilton London Wembley                                    3.8       10.0  "
      ]
     },
     "execution_count": 16,
     "metadata": {},
     "output_type": "execute_result"
    }
   ],
   "source": [
    "# Merging \n",
    "(df_merged\n",
    " .sort_values('mean_score', ascending=0)\n",
    " .sort_values(['n_hodnoceni', 'mean_score'], \n",
    "              ascending = [0, 0])).head(15)"
   ]
  },
  {
   "cell_type": "markdown",
   "metadata": {},
   "source": [
    "# Do people with a positive Experience Tend to write a longer review (and vice-versa)?"
   ]
  },
  {
   "cell_type": "code",
   "execution_count": 17,
   "metadata": {},
   "outputs": [],
   "source": [
    "# Create new columns based on the review length \n",
    "df[\"Pos_review_length\"] = df.Positive_Review.str.len()\n",
    "df[\"Neg_review_length\"] = df.Negative_Review.str.len()"
   ]
  },
  {
   "cell_type": "code",
   "execution_count": 18,
   "metadata": {},
   "outputs": [
    {
     "name": "stderr",
     "output_type": "stream",
     "text": [
      "D:\\Python\\envs\\NLP_SEMINARKA_NEW\\lib\\site-packages\\seaborn\\_decorators.py:43: FutureWarning: Pass the following variables as keyword args: x, y. From version 0.12, the only valid positional argument will be `data`, and passing other arguments without an explicit keyword will result in an error or misinterpretation.\n",
      "  FutureWarning\n"
     ]
    },
    {
     "data": {
      "image/png": "[encoded data removed]",
      "text/plain": [
       "<Figure size 432x288 with 1 Axes>"
      ]
     },
     "metadata": {},
     "output_type": "display_data"
    }
   ],
   "source": [
    "sns.scatterplot('Reviewer_Score', \"Pos_review_length\", data = df);"
   ]
  },
  {
   "cell_type": "markdown",
   "metadata": {},
   "source": [
    "#### use Aggregation to calculate mean length of positive and negative review (for each hotel)"
   ]
  },
  {
   "cell_type": "code",
   "execution_count": 19,
   "metadata": {},
   "outputs": [],
   "source": [
    "agg2 = (df\n",
    " .groupby('Hotel_Name')\n",
    " .agg(n = ('Reviewer_Score', np.size),\n",
    "      mean_rev =('Reviewer_Score', np.mean),\n",
    "      mean_length_of_feedback_pos = ('Pos_review_length', np.mean),\n",
    "      mean_length_of_feedback_neg = ('Neg_review_length', np.mean)).reset_index())"
   ]
  },
  {
   "cell_type": "code",
   "execution_count": 20,
   "metadata": {},
   "outputs": [
    {
     "name": "stderr",
     "output_type": "stream",
     "text": [
      "D:\\Python\\envs\\NLP_SEMINARKA_NEW\\lib\\site-packages\\seaborn\\_decorators.py:43: FutureWarning: Pass the following variables as keyword args: x, y. From version 0.12, the only valid positional argument will be `data`, and passing other arguments without an explicit keyword will result in an error or misinterpretation.\n",
      "  FutureWarning\n",
      "D:\\Python\\envs\\NLP_SEMINARKA_NEW\\lib\\site-packages\\seaborn\\_decorators.py:43: FutureWarning: Pass the following variables as keyword args: x, y. From version 0.12, the only valid positional argument will be `data`, and passing other arguments without an explicit keyword will result in an error or misinterpretation.\n",
      "  FutureWarning\n"
     ]
    },
    {
     "data": {
      "image/png": "[encoded data removed]",
      "text/plain": [
       "<Figure size 1080x432 with 2 Axes>"
      ]
     },
     "metadata": {},
     "output_type": "display_data"
    }
   ],
   "source": [
    "# Create grid for multiple plots\n",
    "figs, axes = plt.subplots(1, 2, figsize = (15, 6))\n",
    "\n",
    "\n",
    "# First plot\n",
    "a = axes[0]\n",
    "sns.scatterplot('mean_rev', 'mean_length_of_feedback_pos', data = agg2, ax = a);\n",
    "a.set_title(\"Correlation Between POSITIVE feedback and feedback length\");\n",
    "\n",
    "# Second PLot\n",
    "a = axes[1]\n",
    "sns.scatterplot('mean_rev', 'mean_length_of_feedback_neg', data = agg2, ax = a);\n",
    "a.set_title(\"Correlation Between NEGATIVE feedback and feedback length\");"
   ]
  },
  {
   "cell_type": "markdown",
   "metadata": {},
   "source": [
    "# Interesting Text columns"
   ]
  },
  {
   "cell_type": "code",
   "execution_count": 21,
   "metadata": {},
   "outputs": [
    {
     "data": {
      "text/html": [
       "<div>\n",
       "<style scoped>\n",
       "    .dataframe tbody tr th:only-of-type {\n",
       "        vertical-align: middle;\n",
       "    }\n",
       "\n",
       "    .dataframe tbody tr th {\n",
       "        vertical-align: top;\n",
       "    }\n",
       "\n",
       "    .dataframe thead th {\n",
       "        text-align: right;\n",
       "    }\n",
       "</style>\n",
       "<table border=\"1\" class=\"dataframe\">\n",
       "  <thead>\n",
       "    <tr style=\"text-align: right;\">\n",
       "      <th></th>\n",
       "      <th>index</th>\n",
       "      <th>Hotel_Address</th>\n",
       "      <th>Additional_Number_of_Scoring</th>\n",
       "      <th>Review_Date</th>\n",
       "      <th>Average_Score</th>\n",
       "      <th>Hotel_Name</th>\n",
       "      <th>Reviewer_Nationality</th>\n",
       "      <th>Negative_Review</th>\n",
       "      <th>Review_Total_Negative_Word_Counts</th>\n",
       "      <th>Total_Number_of_Reviews</th>\n",
       "      <th>...</th>\n",
       "      <th>Review_Total_Positive_Word_Counts</th>\n",
       "      <th>Total_Number_of_Reviews_Reviewer_Has_Given</th>\n",
       "      <th>Reviewer_Score</th>\n",
       "      <th>Tags</th>\n",
       "      <th>days_since_review</th>\n",
       "      <th>lat</th>\n",
       "      <th>lng</th>\n",
       "      <th>Reviewer_Score_discrete</th>\n",
       "      <th>Pos_review_length</th>\n",
       "      <th>Neg_review_length</th>\n",
       "    </tr>\n",
       "  </thead>\n",
       "  <tbody>\n",
       "    <tr>\n",
       "      <th>0</th>\n",
       "      <td>314772</td>\n",
       "      <td>Doctor Carulla 25 Sarri St Gervasi 08017 Barce...</td>\n",
       "      <td>32</td>\n",
       "      <td>5/2/2016</td>\n",
       "      <td>9.2</td>\n",
       "      <td>Primero Primera</td>\n",
       "      <td>United Arab Emirates</td>\n",
       "      <td>Nothing The place was just perfect</td>\n",
       "      <td>8</td>\n",
       "      <td>261</td>\n",
       "      <td>...</td>\n",
       "      <td>24</td>\n",
       "      <td>7</td>\n",
       "      <td>10.0</td>\n",
       "      <td>[' Leisure trip ', ' Couple ', ' Double or Twi...</td>\n",
       "      <td>458 day</td>\n",
       "      <td>41.400281</td>\n",
       "      <td>2.129743</td>\n",
       "      <td>EXCELENT</td>\n",
       "      <td>140</td>\n",
       "      <td>36</td>\n",
       "    </tr>\n",
       "  </tbody>\n",
       "</table>\n",
       "<p>1 rows × 21 columns</p>\n",
       "</div>"
      ],
      "text/plain": [
       "    index                                      Hotel_Address  \\\n",
       "0  314772  Doctor Carulla 25 Sarri St Gervasi 08017 Barce...   \n",
       "\n",
       "   Additional_Number_of_Scoring Review_Date  Average_Score       Hotel_Name  \\\n",
       "0                            32    5/2/2016            9.2  Primero Primera   \n",
       "\n",
       "     Reviewer_Nationality                       Negative_Review  \\\n",
       "0   United Arab Emirates    Nothing The place was just perfect    \n",
       "\n",
       "   Review_Total_Negative_Word_Counts  Total_Number_of_Reviews  ...  \\\n",
       "0                                  8                      261  ...   \n",
       "\n",
       "  Review_Total_Positive_Word_Counts  \\\n",
       "0                                24   \n",
       "\n",
       "   Total_Number_of_Reviews_Reviewer_Has_Given  Reviewer_Score  \\\n",
       "0                                           7            10.0   \n",
       "\n",
       "                                                Tags days_since_review  \\\n",
       "0  [' Leisure trip ', ' Couple ', ' Double or Twi...           458 day   \n",
       "\n",
       "         lat       lng  Reviewer_Score_discrete Pos_review_length  \\\n",
       "0  41.400281  2.129743                 EXCELENT               140   \n",
       "\n",
       "   Neg_review_length  \n",
       "0                 36  \n",
       "\n",
       "[1 rows x 21 columns]"
      ]
     },
     "execution_count": 21,
     "metadata": {},
     "output_type": "execute_result"
    }
   ],
   "source": [
    "df.head(1)"
   ]
  },
  {
   "cell_type": "markdown",
   "metadata": {},
   "source": [
    "### What are the columns containing Text values?"
   ]
  },
  {
   "cell_type": "code",
   "execution_count": 22,
   "metadata": {},
   "outputs": [
    {
     "data": {
      "text/html": [
       "<div>\n",
       "<style scoped>\n",
       "    .dataframe tbody tr th:only-of-type {\n",
       "        vertical-align: middle;\n",
       "    }\n",
       "\n",
       "    .dataframe tbody tr th {\n",
       "        vertical-align: top;\n",
       "    }\n",
       "\n",
       "    .dataframe thead th {\n",
       "        text-align: right;\n",
       "    }\n",
       "</style>\n",
       "<table border=\"1\" class=\"dataframe\">\n",
       "  <thead>\n",
       "    <tr style=\"text-align: right;\">\n",
       "      <th></th>\n",
       "      <th>Positive_Review</th>\n",
       "      <th>Negative_Review</th>\n",
       "      <th>Tags</th>\n",
       "    </tr>\n",
       "  </thead>\n",
       "  <tbody>\n",
       "    <tr>\n",
       "      <th>0</th>\n",
       "      <td>Great location very clean rooms excellent foo...</td>\n",
       "      <td>Nothing The place was just perfect</td>\n",
       "      <td>[' Leisure trip ', ' Couple ', ' Double or Twi...</td>\n",
       "    </tr>\n",
       "    <tr>\n",
       "      <th>1</th>\n",
       "      <td>The Hotel was situated in the old part of Bar...</td>\n",
       "      <td>No Negative</td>\n",
       "      <td>[' Leisure trip ', ' Couple ', ' Classic Doubl...</td>\n",
       "    </tr>\n",
       "    <tr>\n",
       "      <th>2</th>\n",
       "      <td>Staff was very friendly and accommodating Max...</td>\n",
       "      <td>Parking is the biggest issue</td>\n",
       "      <td>[' Leisure trip ', ' Couple ', ' Dorsett Doubl...</td>\n",
       "    </tr>\n",
       "    <tr>\n",
       "      <th>3</th>\n",
       "      <td>The linens were super soft The bathroom was m...</td>\n",
       "      <td>No Negative</td>\n",
       "      <td>[' Leisure trip ', ' Family with older childre...</td>\n",
       "    </tr>\n",
       "    <tr>\n",
       "      <th>4</th>\n",
       "      <td>The room was amazing The bed was comfortable ...</td>\n",
       "      <td>Nothing it was perfect</td>\n",
       "      <td>[' Leisure trip ', ' Couple ', ' Deluxe King R...</td>\n",
       "    </tr>\n",
       "    <tr>\n",
       "      <th>...</th>\n",
       "      <td>...</td>\n",
       "      <td>...</td>\n",
       "      <td>...</td>\n",
       "    </tr>\n",
       "    <tr>\n",
       "      <th>128929</th>\n",
       "      <td>Clean modern and classy</td>\n",
       "      <td>The staff weren t very involved with our stay...</td>\n",
       "      <td>[' Leisure trip ', ' Couple ', ' Large Double ...</td>\n",
       "    </tr>\n",
       "    <tr>\n",
       "      <th>128930</th>\n",
       "      <td>Close to everything you need to see and do in...</td>\n",
       "      <td>No Negative</td>\n",
       "      <td>[' Leisure trip ', ' Family with young childre...</td>\n",
       "    </tr>\n",
       "    <tr>\n",
       "      <th>128931</th>\n",
       "      <td>amazing staff good food facility wifi near th...</td>\n",
       "      <td>toilet is very small</td>\n",
       "      <td>[' Leisure trip ', ' Group ', ' Classic Twin R...</td>\n",
       "    </tr>\n",
       "    <tr>\n",
       "      <th>128932</th>\n",
       "      <td>WOW What to say I loved everything This place...</td>\n",
       "      <td>N A</td>\n",
       "      <td>[' Leisure trip ', ' Solo traveler ', ' Double...</td>\n",
       "    </tr>\n",
       "    <tr>\n",
       "      <th>128933</th>\n",
       "      <td>Location room</td>\n",
       "      <td>Although I am a 3 times returning customer no...</td>\n",
       "      <td>[' Leisure trip ', ' Solo traveler ', ' Double...</td>\n",
       "    </tr>\n",
       "  </tbody>\n",
       "</table>\n",
       "<p>128934 rows × 3 columns</p>\n",
       "</div>"
      ],
      "text/plain": [
       "                                          Positive_Review  \\\n",
       "0        Great location very clean rooms excellent foo...   \n",
       "1        The Hotel was situated in the old part of Bar...   \n",
       "2        Staff was very friendly and accommodating Max...   \n",
       "3        The linens were super soft The bathroom was m...   \n",
       "4        The room was amazing The bed was comfortable ...   \n",
       "...                                                   ...   \n",
       "128929                           Clean modern and classy    \n",
       "128930   Close to everything you need to see and do in...   \n",
       "128931   amazing staff good food facility wifi near th...   \n",
       "128932   WOW What to say I loved everything This place...   \n",
       "128933                                      Location room   \n",
       "\n",
       "                                          Negative_Review  \\\n",
       "0                     Nothing The place was just perfect    \n",
       "1                                             No Negative   \n",
       "2                            Parking is the biggest issue   \n",
       "3                                             No Negative   \n",
       "4                                 Nothing it was perfect    \n",
       "...                                                   ...   \n",
       "128929   The staff weren t very involved with our stay...   \n",
       "128930                                        No Negative   \n",
       "128931                               toilet is very small   \n",
       "128932                                                N A   \n",
       "128933   Although I am a 3 times returning customer no...   \n",
       "\n",
       "                                                     Tags  \n",
       "0       [' Leisure trip ', ' Couple ', ' Double or Twi...  \n",
       "1       [' Leisure trip ', ' Couple ', ' Classic Doubl...  \n",
       "2       [' Leisure trip ', ' Couple ', ' Dorsett Doubl...  \n",
       "3       [' Leisure trip ', ' Family with older childre...  \n",
       "4       [' Leisure trip ', ' Couple ', ' Deluxe King R...  \n",
       "...                                                   ...  \n",
       "128929  [' Leisure trip ', ' Couple ', ' Large Double ...  \n",
       "128930  [' Leisure trip ', ' Family with young childre...  \n",
       "128931  [' Leisure trip ', ' Group ', ' Classic Twin R...  \n",
       "128932  [' Leisure trip ', ' Solo traveler ', ' Double...  \n",
       "128933  [' Leisure trip ', ' Solo traveler ', ' Double...  \n",
       "\n",
       "[128934 rows x 3 columns]"
      ]
     },
     "execution_count": 22,
     "metadata": {},
     "output_type": "execute_result"
    }
   ],
   "source": [
    "df.loc[:, ['Positive_Review', 'Negative_Review', 'Tags']]"
   ]
  },
  {
   "cell_type": "markdown",
   "metadata": {},
   "source": [
    "#### Discretize values of review contain 'Medium' group - since this group is hard to work with we have decided to frop it."
   ]
  },
  {
   "cell_type": "code",
   "execution_count": 23,
   "metadata": {},
   "outputs": [
    {
     "name": "stdout",
     "output_type": "stream",
     "text": [
      "Before dropping Medium values we had 128934 observations\n",
      "Now we have 105235 observations\n"
     ]
    },
    {
     "data": {
      "text/html": [
       "<div>\n",
       "<style scoped>\n",
       "    .dataframe tbody tr th:only-of-type {\n",
       "        vertical-align: middle;\n",
       "    }\n",
       "\n",
       "    .dataframe tbody tr th {\n",
       "        vertical-align: top;\n",
       "    }\n",
       "\n",
       "    .dataframe thead th {\n",
       "        text-align: right;\n",
       "    }\n",
       "</style>\n",
       "<table border=\"1\" class=\"dataframe\">\n",
       "  <thead>\n",
       "    <tr style=\"text-align: right;\">\n",
       "      <th></th>\n",
       "      <th>level_0</th>\n",
       "      <th>index</th>\n",
       "      <th>Hotel_Address</th>\n",
       "      <th>Additional_Number_of_Scoring</th>\n",
       "      <th>Review_Date</th>\n",
       "      <th>Average_Score</th>\n",
       "      <th>Hotel_Name</th>\n",
       "      <th>Reviewer_Nationality</th>\n",
       "      <th>Negative_Review</th>\n",
       "      <th>Review_Total_Negative_Word_Counts</th>\n",
       "      <th>...</th>\n",
       "      <th>Review_Total_Positive_Word_Counts</th>\n",
       "      <th>Total_Number_of_Reviews_Reviewer_Has_Given</th>\n",
       "      <th>Reviewer_Score</th>\n",
       "      <th>Tags</th>\n",
       "      <th>days_since_review</th>\n",
       "      <th>lat</th>\n",
       "      <th>lng</th>\n",
       "      <th>Reviewer_Score_discrete</th>\n",
       "      <th>Pos_review_length</th>\n",
       "      <th>Neg_review_length</th>\n",
       "    </tr>\n",
       "  </thead>\n",
       "  <tbody>\n",
       "    <tr>\n",
       "      <th>0</th>\n",
       "      <td>0</td>\n",
       "      <td>314772</td>\n",
       "      <td>Doctor Carulla 25 Sarri St Gervasi 08017 Barce...</td>\n",
       "      <td>32</td>\n",
       "      <td>5/2/2016</td>\n",
       "      <td>9.2</td>\n",
       "      <td>Primero Primera</td>\n",
       "      <td>United Arab Emirates</td>\n",
       "      <td>Nothing The place was just perfect</td>\n",
       "      <td>8</td>\n",
       "      <td>...</td>\n",
       "      <td>24</td>\n",
       "      <td>7</td>\n",
       "      <td>10.0</td>\n",
       "      <td>[' Leisure trip ', ' Couple ', ' Double or Twi...</td>\n",
       "      <td>458 day</td>\n",
       "      <td>41.400281</td>\n",
       "      <td>2.129743</td>\n",
       "      <td>EXCELENT</td>\n",
       "      <td>140</td>\n",
       "      <td>36</td>\n",
       "    </tr>\n",
       "  </tbody>\n",
       "</table>\n",
       "<p>1 rows × 22 columns</p>\n",
       "</div>"
      ],
      "text/plain": [
       "   level_0   index                                      Hotel_Address  \\\n",
       "0        0  314772  Doctor Carulla 25 Sarri St Gervasi 08017 Barce...   \n",
       "\n",
       "   Additional_Number_of_Scoring Review_Date  Average_Score       Hotel_Name  \\\n",
       "0                            32    5/2/2016            9.2  Primero Primera   \n",
       "\n",
       "     Reviewer_Nationality                       Negative_Review  \\\n",
       "0   United Arab Emirates    Nothing The place was just perfect    \n",
       "\n",
       "   Review_Total_Negative_Word_Counts  ...  Review_Total_Positive_Word_Counts  \\\n",
       "0                                  8  ...                                 24   \n",
       "\n",
       "  Total_Number_of_Reviews_Reviewer_Has_Given  Reviewer_Score  \\\n",
       "0                                          7            10.0   \n",
       "\n",
       "                                                Tags  days_since_review  \\\n",
       "0  [' Leisure trip ', ' Couple ', ' Double or Twi...            458 day   \n",
       "\n",
       "         lat       lng  Reviewer_Score_discrete  Pos_review_length  \\\n",
       "0  41.400281  2.129743                 EXCELENT                140   \n",
       "\n",
       "  Neg_review_length  \n",
       "0                36  \n",
       "\n",
       "[1 rows x 22 columns]"
      ]
     },
     "execution_count": 23,
     "metadata": {},
     "output_type": "execute_result"
    }
   ],
   "source": [
    "# Drop the medium values\n",
    "\n",
    "# Number of rows before dropping it\n",
    "print(f'Before dropping Medium values we had {df.shape[0]} observations')\n",
    "\n",
    "# Drop the columns\n",
    "df = df.loc[(df.loc[:, 'Reviewer_Score_discrete'] != 'MEDIUM'), :].reset_index()\n",
    "\n",
    "# NUmber of rows after dropping it\n",
    "print(f'Now we have {df.shape[0]} observations')\n",
    "\n",
    "df.head(1)"
   ]
  },
  {
   "cell_type": "markdown",
   "metadata": {},
   "source": [
    "# Create Final 2-level evaluation of the hotel - Positive, Negative"
   ]
  },
  {
   "cell_type": "markdown",
   "metadata": {},
   "source": [
    "#### As we can see - now we have 4 unique cathegories."
   ]
  },
  {
   "cell_type": "code",
   "execution_count": 24,
   "metadata": {},
   "outputs": [
    {
     "data": {
      "text/plain": [
       "['EXCELENT', 'GOOD', 'BAD', 'VERY BAD']\n",
       "Categories (4, object): ['VERY BAD' < 'BAD' < 'GOOD' < 'EXCELENT']"
      ]
     },
     "execution_count": 24,
     "metadata": {},
     "output_type": "execute_result"
    }
   ],
   "source": [
    "df.Reviewer_Score_discrete.unique()"
   ]
  },
  {
   "cell_type": "code",
   "execution_count": 25,
   "metadata": {},
   "outputs": [],
   "source": [
    "# One way to to perform converting\n",
    "\n",
    "#df['Final_Jugment'] = [{\"POSITIVE\": y in ['EXCELENT', 'GOOD'], \"NEGATIVE\": y in ['BAD', 'VERY BAD']} for y in df.Reviewer_Score_discrete]\n",
    "#df['Final_Jugment']"
   ]
  },
  {
   "cell_type": "markdown",
   "metadata": {},
   "source": [
    "#### Reduce number of cathegoies into 2."
   ]
  },
  {
   "cell_type": "code",
   "execution_count": 26,
   "metadata": {},
   "outputs": [
    {
     "data": {
      "text/plain": [
       "GOOD    92080\n",
       "BAD     13155\n",
       "Name: coded, dtype: int64"
      ]
     },
     "execution_count": 26,
     "metadata": {},
     "output_type": "execute_result"
    }
   ],
   "source": [
    "df['coded'] = df['Reviewer_Score_discrete'].apply(lambda x: 'GOOD' if x in ['EXCELENT', 'GOOD'] else 'BAD')\n",
    "df['coded'].value_counts()"
   ]
  },
  {
   "cell_type": "markdown",
   "metadata": {},
   "source": [
    "#### Are distibutions equal?"
   ]
  },
  {
   "cell_type": "code",
   "execution_count": 27,
   "metadata": {},
   "outputs": [
    {
     "name": "stderr",
     "output_type": "stream",
     "text": [
      "D:\\Python\\envs\\NLP_SEMINARKA_NEW\\lib\\site-packages\\seaborn\\_decorators.py:43: FutureWarning: Pass the following variable as a keyword arg: x. From version 0.12, the only valid positional argument will be `data`, and passing other arguments without an explicit keyword will result in an error or misinterpretation.\n",
      "  FutureWarning\n"
     ]
    },
    {
     "data": {
      "image/png": "[encoded data removed]",
      "text/plain": [
       "<Figure size 432x288 with 1 Axes>"
      ]
     },
     "metadata": {},
     "output_type": "display_data"
    }
   ],
   "source": [
    "sns.countplot(df['coded']);"
   ]
  },
  {
   "cell_type": "markdown",
   "metadata": {},
   "source": [
    "# API GOOGLE service - Analysis with Hotel Reviews data set"
   ]
  },
  {
   "cell_type": "code",
   "execution_count": 51,
   "metadata": {},
   "outputs": [],
   "source": [
    "# another packages for text analysis\n",
    "from google.cloud import language_v1\n",
    "from google.oauth2 import service_account"
   ]
  },
  {
   "cell_type": "markdown",
   "metadata": {},
   "source": [
    "#### Connecting to API"
   ]
  },
  {
   "cell_type": "code",
   "execution_count": 55,
   "metadata": {},
   "outputs": [],
   "source": [
    "creds = service_account.Credentials.from_service_account_file('./project-hrof01-239cf2bd85b2.json')"
   ]
  },
  {
   "cell_type": "code",
   "execution_count": 56,
   "metadata": {},
   "outputs": [],
   "source": [
    "client = language_v1.LanguageServiceClient(credentials=creds)"
   ]
  },
  {
   "cell_type": "code",
   "execution_count": 57,
   "metadata": {},
   "outputs": [],
   "source": [
    "# function definition for analysing text \n",
    "# based on lesson\n",
    "def analyze_entity(text):\n",
    "    language = \"en\"\n",
    "    type_ = language_v1.Document.Type.PLAIN_TEXT\n",
    "    encoding_type = language_v1.EncodingType.UTF8\n",
    "    document = {\"content\": text, \"type_\": type_, \"language\": language}\n",
    "    response = client.analyze_entities(request = {'document': document, 'encoding_type': encoding_type})\n",
    "    return response"
   ]
  },
  {
   "cell_type": "markdown",
   "metadata": {},
   "source": [
    "### Analysis using API service and visualisation\n",
    "#### Data preparation\n",
    " In this section, we divide data set into  *Negative* and *Positive* reviews. In addition, we shuffle reduced data and choose only 500 records for *N* and *P* reviews. "
   ]
  },
  {
   "cell_type": "code",
   "execution_count": 58,
   "metadata": {},
   "outputs": [],
   "source": [
    "max_rows = 500\n",
    "# shuffle\n",
    "df = df.sample(frac = 1)\n",
    "# data frame for neg and pos separately \n",
    "response_NEG = df['Negative_Review'].iloc[0:max_rows]\n",
    "response_POS = df['Positive_Review'].iloc[0:max_rows]"
   ]
  },
  {
   "cell_type": "markdown",
   "metadata": {},
   "source": [
    "\n",
    "### API Analysis\n",
    " Now, we are able to utilize text analysis on *Positive* and *Negative* reviews. The goal is to find entities in every single review. Furthermore, we will be able to find out, what kind of entities are common for reviews and compare them.\n"
   ]
  },
  {
   "cell_type": "code",
   "execution_count": 59,
   "metadata": {},
   "outputs": [],
   "source": [
    "# Create an empty dataframes\n",
    "df_res_POS = pd.DataFrame()\n",
    "df_res_NEG = pd.DataFrame()\n",
    "# for every single sentence we safe all entities and their score\n",
    "i = 0\n",
    "for veta in response_POS:\n",
    "    for entity in analyze_entity(veta).entities:\n",
    "        df_res_POS.loc[i, 'TYPE'] = str(language_v1.Entity.Type(entity.type_).name)\n",
    "        df_res_POS.loc[i, 'SCORE'] = float(entity.salience)\n",
    "        df_res_POS.loc[i, 'COUNT'] = 1\n",
    "        i = i + 1 \n",
    "        \n",
    "\n",
    "# for every single sentence we safe all entities and their score\n",
    "i = 0\n",
    "for veta in response_NEG:\n",
    "    for entity in analyze_entity(veta).entities:\n",
    "        df_res_NEG.loc[i, 'TYPE'] = str(language_v1.Entity.Type(entity.type_).name)\n",
    "        df_res_NEG.loc[i, 'SCORE'] = float(entity.salience)\n",
    "        df_res_NEG.loc[i, 'COUNT'] = 1\n",
    "        i = i + 1 "
   ]
  },
  {
   "cell_type": "markdown",
   "metadata": {},
   "source": [
    "After entities analysis, It is appropriate to filter out  \"OTHER\" entities. ( Hard to interpret their impact and meaning in reviews. ) "
   ]
  },
  {
   "cell_type": "code",
   "execution_count": 60,
   "metadata": {},
   "outputs": [],
   "source": [
    "# Filtering OTHER ent.\n",
    "df_res_POS_1 = df_res_POS[(df_res_POS.TYPE != \"OTHER\")]\n",
    "df_res_NEG_1 = df_res_NEG[(df_res_NEG.TYPE != \"OTHER\")]"
   ]
  },
  {
   "cell_type": "markdown",
   "metadata": {},
   "source": [
    "### Visualization of *Scoring*     "
   ]
  },
  {
   "cell_type": "code",
   "execution_count": 61,
   "metadata": {},
   "outputs": [
    {
     "data": {
      "image/png": "[encoded data removed]",
      "text/plain": [
       "<Figure size 432x288 with 1 Axes>"
      ]
     },
     "metadata": {},
     "output_type": "display_data"
    },
    {
     "data": {
      "image/png": "[encoded data removed]",
      "text/plain": [
       "<Figure size 432x288 with 1 Axes>"
      ]
     },
     "metadata": {},
     "output_type": "display_data"
    }
   ],
   "source": [
    "df_res_POS_1.plot.hist(grid=True, bins=10, rwidth=0.9,\n",
    "                   color='#607c8e')\n",
    "plt.title('Positive comments and their scoring distribution')\n",
    "plt.xlabel('Score')\n",
    "plt.ylabel('Counts')\n",
    "plt.grid(axis='y', alpha=0.75)\n",
    "\n",
    "df_res_NEG_1.plot.hist(grid=True, bins=10, rwidth=0.9,\n",
    "                   color='#607c8e')\n",
    "plt.title('Negative comments and their scoring distribution')\n",
    "plt.xlabel('Score')\n",
    "plt.ylabel('Counts')\n",
    "plt.grid(axis='y', alpha=0.75)"
   ]
  },
  {
   "cell_type": "markdown",
   "metadata": {},
   "source": [
    "### Visualization of entities groups and their comparasion. \n",
    " In this section, we use *\"OTHER\"* in visualisation."
   ]
  },
  {
   "cell_type": "code",
   "execution_count": 62,
   "metadata": {},
   "outputs": [
    {
     "data": {
      "image/png": "[encoded data removed]",
      "text/plain": [
       "<Figure size 432x288 with 1 Axes>"
      ]
     },
     "metadata": {},
     "output_type": "display_data"
    },
    {
     "data": {
      "image/png": "[encoded data removed]",
      "text/plain": [
       "<Figure size 432x288 with 1 Axes>"
      ]
     },
     "metadata": {},
     "output_type": "display_data"
    }
   ],
   "source": [
    "# Counts for groups \n",
    "a = df_res_POS.TYPE.value_counts()\n",
    "b = df_res_NEG.TYPE.value_counts()\n",
    "\n",
    "x = list(a.index)\n",
    "y = list(a)\n",
    "\n",
    "x_1 = list(b.index)\n",
    "y_1 = list(b)\n",
    "\n",
    "# plot Positive\n",
    "fig, ax = plt.subplots()    \n",
    "width = 0.75 # the width of the bars \n",
    "ind = np.arange(len(y))  # the x locations for the groups\n",
    "ax.barh(ind, y, width, color=\"blue\")\n",
    "ax.set_yticks(ind+width/2)\n",
    "ax.set_yticklabels(x, minor=False)\n",
    "for i, v in enumerate(y):\n",
    "    ax.text(v + .25, i + .25, str(v), color='blue', fontweight='bold') #add value labels into bar\n",
    "plt.title('Positive comments and entity evaluation')\n",
    "plt.xlabel('Counts')\n",
    "plt.ylabel('Entity')\n",
    "\n",
    "# plot Negative\n",
    "fig, ax = plt.subplots()    \n",
    "width = 0.75 # the width of the bars \n",
    "ind = np.arange(len(y_1))  # the x locations for the groups\n",
    "ax.barh(ind, y_1, width, color=\"blue\")\n",
    "ax.set_yticks(ind+width/2)\n",
    "ax.set_yticklabels(x_1, minor=False)\n",
    "for i, v in enumerate(y_1):\n",
    "    ax.text(v + .25, i + .25, str(v), color='blue', fontweight='bold') #add value labels into bar\n",
    "plt.title('Negative comments and entity evaluation')\n",
    "plt.xlabel('Counts')\n",
    "plt.ylabel('Entity')\n",
    "plt.show()"
   ]
  },
  {
   "cell_type": "markdown",
   "metadata": {},
   "source": [
    "# Creating Dataset for a Classification Algorithm"
   ]
  },
  {
   "cell_type": "code",
   "execution_count": 28,
   "metadata": {},
   "outputs": [],
   "source": [
    "# SAve values based on the cathegory\n",
    "df_neg = df[df.coded==\"BAD\"]\n",
    "df_pos = df[df.coded==\"GOOD\"]\n",
    "#df_pos"
   ]
  },
  {
   "cell_type": "code",
   "execution_count": 29,
   "metadata": {},
   "outputs": [
    {
     "data": {
      "text/html": [
       "<div>\n",
       "<style scoped>\n",
       "    .dataframe tbody tr th:only-of-type {\n",
       "        vertical-align: middle;\n",
       "    }\n",
       "\n",
       "    .dataframe tbody tr th {\n",
       "        vertical-align: top;\n",
       "    }\n",
       "\n",
       "    .dataframe thead th {\n",
       "        text-align: right;\n",
       "    }\n",
       "</style>\n",
       "<table border=\"1\" class=\"dataframe\">\n",
       "  <thead>\n",
       "    <tr style=\"text-align: right;\">\n",
       "      <th></th>\n",
       "      <th>level_0</th>\n",
       "      <th>index</th>\n",
       "      <th>Hotel_Address</th>\n",
       "      <th>Additional_Number_of_Scoring</th>\n",
       "      <th>Review_Date</th>\n",
       "      <th>Average_Score</th>\n",
       "      <th>Hotel_Name</th>\n",
       "      <th>Reviewer_Nationality</th>\n",
       "      <th>Negative_Review</th>\n",
       "      <th>Review_Total_Negative_Word_Counts</th>\n",
       "      <th>...</th>\n",
       "      <th>Reviewer_Score</th>\n",
       "      <th>Tags</th>\n",
       "      <th>days_since_review</th>\n",
       "      <th>lat</th>\n",
       "      <th>lng</th>\n",
       "      <th>Reviewer_Score_discrete</th>\n",
       "      <th>Pos_review_length</th>\n",
       "      <th>Neg_review_length</th>\n",
       "      <th>coded</th>\n",
       "      <th>cats</th>\n",
       "    </tr>\n",
       "  </thead>\n",
       "  <tbody>\n",
       "    <tr>\n",
       "      <th>0</th>\n",
       "      <td>86304</td>\n",
       "      <td>440895</td>\n",
       "      <td>Savoyenstra e 2 16 Ottakring 1160 Vienna Austria</td>\n",
       "      <td>86</td>\n",
       "      <td>6/26/2017</td>\n",
       "      <td>8.3</td>\n",
       "      <td>Austria Trend Hotel Schloss Wilhelminenberg Wien</td>\n",
       "      <td>Italy</td>\n",
       "      <td>No Negative</td>\n",
       "      <td>0</td>\n",
       "      <td>...</td>\n",
       "      <td>8.8</td>\n",
       "      <td>[' Business trip ', ' Solo traveler ', ' Class...</td>\n",
       "      <td>38 days</td>\n",
       "      <td>NaN</td>\n",
       "      <td>NaN</td>\n",
       "      <td>GOOD</td>\n",
       "      <td>69</td>\n",
       "      <td>11</td>\n",
       "      <td>GOOD</td>\n",
       "      <td>{'GOOD': True, 'BAD': False}</td>\n",
       "    </tr>\n",
       "    <tr>\n",
       "      <th>1</th>\n",
       "      <td>19547</td>\n",
       "      <td>174979</td>\n",
       "      <td>4 Broad Court Bow Street Covent Garden Westmin...</td>\n",
       "      <td>294</td>\n",
       "      <td>1/11/2017</td>\n",
       "      <td>8.7</td>\n",
       "      <td>Fielding Hotel</td>\n",
       "      <td>United States of America</td>\n",
       "      <td>The usual price listed per night is high but ...</td>\n",
       "      <td>18</td>\n",
       "      <td>...</td>\n",
       "      <td>10.0</td>\n",
       "      <td>[' Leisure trip ', ' Couple ', ' Double Room '...</td>\n",
       "      <td>204 day</td>\n",
       "      <td>51.513931</td>\n",
       "      <td>-0.121989</td>\n",
       "      <td>EXCELENT</td>\n",
       "      <td>224</td>\n",
       "      <td>77</td>\n",
       "      <td>GOOD</td>\n",
       "      <td>{'GOOD': True, 'BAD': False}</td>\n",
       "    </tr>\n",
       "  </tbody>\n",
       "</table>\n",
       "<p>2 rows × 24 columns</p>\n",
       "</div>"
      ],
      "text/plain": [
       "   level_0   index                                      Hotel_Address  \\\n",
       "0    86304  440895   Savoyenstra e 2 16 Ottakring 1160 Vienna Austria   \n",
       "1    19547  174979  4 Broad Court Bow Street Covent Garden Westmin...   \n",
       "\n",
       "   Additional_Number_of_Scoring Review_Date  Average_Score  \\\n",
       "0                            86   6/26/2017            8.3   \n",
       "1                           294   1/11/2017            8.7   \n",
       "\n",
       "                                         Hotel_Name  \\\n",
       "0  Austria Trend Hotel Schloss Wilhelminenberg Wien   \n",
       "1                                    Fielding Hotel   \n",
       "\n",
       "         Reviewer_Nationality  \\\n",
       "0                      Italy    \n",
       "1   United States of America    \n",
       "\n",
       "                                     Negative_Review  \\\n",
       "0                                        No Negative   \n",
       "1   The usual price listed per night is high but ...   \n",
       "\n",
       "   Review_Total_Negative_Word_Counts  ...  Reviewer_Score  \\\n",
       "0                                  0  ...             8.8   \n",
       "1                                 18  ...            10.0   \n",
       "\n",
       "                                                Tags  days_since_review  \\\n",
       "0  [' Business trip ', ' Solo traveler ', ' Class...            38 days   \n",
       "1  [' Leisure trip ', ' Couple ', ' Double Room '...            204 day   \n",
       "\n",
       "         lat       lng Reviewer_Score_discrete Pos_review_length  \\\n",
       "0        NaN       NaN                    GOOD                69   \n",
       "1  51.513931 -0.121989                EXCELENT               224   \n",
       "\n",
       "   Neg_review_length  coded                          cats  \n",
       "0                 11   GOOD  {'GOOD': True, 'BAD': False}  \n",
       "1                 77   GOOD  {'GOOD': True, 'BAD': False}  \n",
       "\n",
       "[2 rows x 24 columns]"
      ]
     },
     "execution_count": 29,
     "metadata": {},
     "output_type": "execute_result"
    }
   ],
   "source": [
    "# SAmple NUmber from possitive \n",
    "df_pos = df_pos.sample(df_neg.shape[0])\n",
    "\n",
    "# MErge new filtered positive and negative\n",
    "df_prepared = pd.concat([df_pos, df_neg], ignore_index=1)\n",
    "df_prepared[\"cats\"] = [{\"GOOD\": y==\"GOOD\", \"BAD\": y==\"BAD\"} for y in df_prepared.coded]\n",
    "df_prepared.head(2)"
   ]
  },
  {
   "cell_type": "code",
   "execution_count": 30,
   "metadata": {},
   "outputs": [
    {
     "name": "stderr",
     "output_type": "stream",
     "text": [
      "D:\\Python\\envs\\NLP_SEMINARKA_NEW\\lib\\site-packages\\seaborn\\_decorators.py:43: FutureWarning: Pass the following variable as a keyword arg: x. From version 0.12, the only valid positional argument will be `data`, and passing other arguments without an explicit keyword will result in an error or misinterpretation.\n",
      "  FutureWarning\n"
     ]
    },
    {
     "data": {
      "text/plain": [
       "<AxesSubplot:xlabel='coded', ylabel='count'>"
      ]
     },
     "execution_count": 30,
     "metadata": {},
     "output_type": "execute_result"
    },
    {
     "data": {
      "image/png": "[encoded data removed]",
      "text/plain": [
       "<Figure size 432x288 with 1 Axes>"
      ]
     },
     "metadata": {},
     "output_type": "display_data"
    }
   ],
   "source": [
    "sns.countplot(df_prepared['coded'])"
   ]
  },
  {
   "cell_type": "markdown",
   "metadata": {},
   "source": [
    "# Test-TRAIN split"
   ]
  },
  {
   "cell_type": "code",
   "execution_count": 31,
   "metadata": {},
   "outputs": [
    {
     "data": {
      "text/plain": [
       "'Training Data have 21048, Testing Data have 5262 rows of observations.'"
      ]
     },
     "execution_count": 31,
     "metadata": {},
     "output_type": "execute_result"
    }
   ],
   "source": [
    "# Shuffle the dataset\n",
    "df_prepared = df_prepared.sample(frac=1)\n",
    "df_prepared.shape\n",
    "\n",
    "# Percentage of test/train ration\n",
    "split = 0.8\n",
    "split_row = int(len(df_prepared) * split)\n",
    "\n",
    "\n",
    "df_test = df_prepared[split_row:]\n",
    "\n",
    "df_train = df_prepared[:split_row]\n",
    "\n",
    "\n",
    "train_data = list(zip(df_train[\"Positive_Review\"], [{\"cats\": cats} for cats in df_train[\"cats\"]]))\n",
    "\n",
    "test_data = list(zip(df_test[\"Positive_Review\"], [{\"cats\": cats} for cats in df_test[\"cats\"]]))\n",
    "f\"Training Data have {df_train.shape[0]}, Testing Data have {df_test.shape[0]} rows of observations.\""
   ]
  },
  {
   "cell_type": "code",
   "execution_count": 32,
   "metadata": {},
   "outputs": [
    {
     "data": {
      "text/html": [
       "<div>\n",
       "<style scoped>\n",
       "    .dataframe tbody tr th:only-of-type {\n",
       "        vertical-align: middle;\n",
       "    }\n",
       "\n",
       "    .dataframe tbody tr th {\n",
       "        vertical-align: top;\n",
       "    }\n",
       "\n",
       "    .dataframe thead th {\n",
       "        text-align: right;\n",
       "    }\n",
       "</style>\n",
       "<table border=\"1\" class=\"dataframe\">\n",
       "  <thead>\n",
       "    <tr style=\"text-align: right;\">\n",
       "      <th></th>\n",
       "      <th>level_0</th>\n",
       "      <th>index</th>\n",
       "      <th>Hotel_Address</th>\n",
       "      <th>Additional_Number_of_Scoring</th>\n",
       "      <th>Review_Date</th>\n",
       "      <th>Average_Score</th>\n",
       "      <th>Hotel_Name</th>\n",
       "      <th>Reviewer_Nationality</th>\n",
       "      <th>Negative_Review</th>\n",
       "      <th>Review_Total_Negative_Word_Counts</th>\n",
       "      <th>...</th>\n",
       "      <th>Reviewer_Score</th>\n",
       "      <th>Tags</th>\n",
       "      <th>days_since_review</th>\n",
       "      <th>lat</th>\n",
       "      <th>lng</th>\n",
       "      <th>Reviewer_Score_discrete</th>\n",
       "      <th>Pos_review_length</th>\n",
       "      <th>Neg_review_length</th>\n",
       "      <th>coded</th>\n",
       "      <th>cats</th>\n",
       "    </tr>\n",
       "  </thead>\n",
       "  <tbody>\n",
       "    <tr>\n",
       "      <th>475</th>\n",
       "      <td>111691</td>\n",
       "      <td>238738</td>\n",
       "      <td>7 Pepys Street City of London London EC3N 4AF ...</td>\n",
       "      <td>1936</td>\n",
       "      <td>3/28/2016</td>\n",
       "      <td>8.7</td>\n",
       "      <td>DoubleTree by Hilton Hotel London Tower of London</td>\n",
       "      <td>United Kingdom</td>\n",
       "      <td>Overtly expensive sky bar</td>\n",
       "      <td>5</td>\n",
       "      <td>...</td>\n",
       "      <td>10.0</td>\n",
       "      <td>[' Leisure trip ', ' Couple ', ' Queen Room Mo...</td>\n",
       "      <td>493 day</td>\n",
       "      <td>51.510841</td>\n",
       "      <td>-0.078058</td>\n",
       "      <td>EXCELENT</td>\n",
       "      <td>20</td>\n",
       "      <td>26</td>\n",
       "      <td>GOOD</td>\n",
       "      <td>{'GOOD': True, 'BAD': False}</td>\n",
       "    </tr>\n",
       "    <tr>\n",
       "      <th>6613</th>\n",
       "      <td>13935</td>\n",
       "      <td>253433</td>\n",
       "      <td>81 Great Eastern Street Islington London EC2A ...</td>\n",
       "      <td>524</td>\n",
       "      <td>10/30/2016</td>\n",
       "      <td>9.0</td>\n",
       "      <td>The Hoxton Shoreditch</td>\n",
       "      <td>United Kingdom</td>\n",
       "      <td>No dressing gowns slippers or all night room ...</td>\n",
       "      <td>10</td>\n",
       "      <td>...</td>\n",
       "      <td>8.3</td>\n",
       "      <td>[' Leisure trip ', ' Solo traveler ', ' Deluxe...</td>\n",
       "      <td>277 day</td>\n",
       "      <td>51.525514</td>\n",
       "      <td>-0.082927</td>\n",
       "      <td>GOOD</td>\n",
       "      <td>15</td>\n",
       "      <td>53</td>\n",
       "      <td>GOOD</td>\n",
       "      <td>{'GOOD': True, 'BAD': False}</td>\n",
       "    </tr>\n",
       "    <tr>\n",
       "      <th>21235</th>\n",
       "      <td>79696</td>\n",
       "      <td>130888</td>\n",
       "      <td>29 31 Gower Street Camden London WC1E 6HG Unit...</td>\n",
       "      <td>457</td>\n",
       "      <td>4/8/2017</td>\n",
       "      <td>6.8</td>\n",
       "      <td>Bloomsbury Palace Hotel</td>\n",
       "      <td>Italy</td>\n",
       "      <td>Struttura molto sporca La camera non corrispo...</td>\n",
       "      <td>45</td>\n",
       "      <td>...</td>\n",
       "      <td>5.0</td>\n",
       "      <td>[' Family with young children ', ' Triple Room...</td>\n",
       "      <td>117 day</td>\n",
       "      <td>51.520795</td>\n",
       "      <td>-0.131084</td>\n",
       "      <td>BAD</td>\n",
       "      <td>18</td>\n",
       "      <td>272</td>\n",
       "      <td>BAD</td>\n",
       "      <td>{'GOOD': False, 'BAD': True}</td>\n",
       "    </tr>\n",
       "    <tr>\n",
       "      <th>12414</th>\n",
       "      <td>99389</td>\n",
       "      <td>248063</td>\n",
       "      <td>8 Northumberland Avenue Westminster Borough Lo...</td>\n",
       "      <td>409</td>\n",
       "      <td>8/28/2016</td>\n",
       "      <td>8.3</td>\n",
       "      <td>The Grand at Trafalgar Square</td>\n",
       "      <td>United Kingdom</td>\n",
       "      <td>No Negative</td>\n",
       "      <td>0</td>\n",
       "      <td>...</td>\n",
       "      <td>10.0</td>\n",
       "      <td>[' Leisure trip ', ' Couple ', ' Small Queen R...</td>\n",
       "      <td>340 day</td>\n",
       "      <td>51.506935</td>\n",
       "      <td>-0.126012</td>\n",
       "      <td>EXCELENT</td>\n",
       "      <td>90</td>\n",
       "      <td>11</td>\n",
       "      <td>GOOD</td>\n",
       "      <td>{'GOOD': True, 'BAD': False}</td>\n",
       "    </tr>\n",
       "    <tr>\n",
       "      <th>2508</th>\n",
       "      <td>52651</td>\n",
       "      <td>27417</td>\n",
       "      <td>101 Buckingham Palace Road Westminster Borough...</td>\n",
       "      <td>838</td>\n",
       "      <td>6/19/2016</td>\n",
       "      <td>8.4</td>\n",
       "      <td>The Grosvenor</td>\n",
       "      <td>Spain</td>\n",
       "      <td>A little more luxury for the price and the ic...</td>\n",
       "      <td>13</td>\n",
       "      <td>...</td>\n",
       "      <td>8.3</td>\n",
       "      <td>[' Leisure trip ', ' Couple ', ' Deluxe Double...</td>\n",
       "      <td>410 day</td>\n",
       "      <td>51.495666</td>\n",
       "      <td>-0.145279</td>\n",
       "      <td>GOOD</td>\n",
       "      <td>48</td>\n",
       "      <td>56</td>\n",
       "      <td>GOOD</td>\n",
       "      <td>{'GOOD': True, 'BAD': False}</td>\n",
       "    </tr>\n",
       "    <tr>\n",
       "      <th>...</th>\n",
       "      <td>...</td>\n",
       "      <td>...</td>\n",
       "      <td>...</td>\n",
       "      <td>...</td>\n",
       "      <td>...</td>\n",
       "      <td>...</td>\n",
       "      <td>...</td>\n",
       "      <td>...</td>\n",
       "      <td>...</td>\n",
       "      <td>...</td>\n",
       "      <td>...</td>\n",
       "      <td>...</td>\n",
       "      <td>...</td>\n",
       "      <td>...</td>\n",
       "      <td>...</td>\n",
       "      <td>...</td>\n",
       "      <td>...</td>\n",
       "      <td>...</td>\n",
       "      <td>...</td>\n",
       "      <td>...</td>\n",
       "      <td>...</td>\n",
       "    </tr>\n",
       "    <tr>\n",
       "      <th>18940</th>\n",
       "      <td>57168</td>\n",
       "      <td>3429</td>\n",
       "      <td>1 3 Queens Garden Westminster Borough London W...</td>\n",
       "      <td>1058</td>\n",
       "      <td>4/9/2016</td>\n",
       "      <td>7.7</td>\n",
       "      <td>The Park Grand London Paddington</td>\n",
       "      <td>Saudi Arabia</td>\n",
       "      <td>Reaching room by stairs cause the left can bo...</td>\n",
       "      <td>13</td>\n",
       "      <td>...</td>\n",
       "      <td>5.4</td>\n",
       "      <td>[' Leisure trip ', ' Group ', ' Deluxe Double ...</td>\n",
       "      <td>481 day</td>\n",
       "      <td>51.514218</td>\n",
       "      <td>-0.180903</td>\n",
       "      <td>BAD</td>\n",
       "      <td>81</td>\n",
       "      <td>62</td>\n",
       "      <td>BAD</td>\n",
       "      <td>{'GOOD': False, 'BAD': True}</td>\n",
       "    </tr>\n",
       "    <tr>\n",
       "      <th>15164</th>\n",
       "      <td>19764</td>\n",
       "      <td>444219</td>\n",
       "      <td>Scarsdale Place Kensington Kensington and Chel...</td>\n",
       "      <td>1831</td>\n",
       "      <td>11/22/2015</td>\n",
       "      <td>8.1</td>\n",
       "      <td>Copthorne Tara Hotel London Kensington</td>\n",
       "      <td>United Kingdom</td>\n",
       "      <td>The heating system need update</td>\n",
       "      <td>7</td>\n",
       "      <td>...</td>\n",
       "      <td>5.8</td>\n",
       "      <td>[' Business trip ', ' Solo traveler ', ' Super...</td>\n",
       "      <td>620 day</td>\n",
       "      <td>51.499046</td>\n",
       "      <td>-0.191707</td>\n",
       "      <td>BAD</td>\n",
       "      <td>11</td>\n",
       "      <td>32</td>\n",
       "      <td>BAD</td>\n",
       "      <td>{'GOOD': False, 'BAD': True}</td>\n",
       "    </tr>\n",
       "    <tr>\n",
       "      <th>15506</th>\n",
       "      <td>23053</td>\n",
       "      <td>191144</td>\n",
       "      <td>44 Grosvenor Square Westminster Borough London...</td>\n",
       "      <td>806</td>\n",
       "      <td>10/8/2016</td>\n",
       "      <td>7.8</td>\n",
       "      <td>Millennium Hotel London Mayfair</td>\n",
       "      <td>United States of America</td>\n",
       "      <td>No heating even after handy man came to try t...</td>\n",
       "      <td>26</td>\n",
       "      <td>...</td>\n",
       "      <td>5.0</td>\n",
       "      <td>[' Business trip ', ' Couple ', ' Standard Dou...</td>\n",
       "      <td>299 day</td>\n",
       "      <td>51.510574</td>\n",
       "      <td>-0.150995</td>\n",
       "      <td>BAD</td>\n",
       "      <td>11</td>\n",
       "      <td>126</td>\n",
       "      <td>BAD</td>\n",
       "      <td>{'GOOD': False, 'BAD': True}</td>\n",
       "    </tr>\n",
       "    <tr>\n",
       "      <th>17065</th>\n",
       "      <td>38525</td>\n",
       "      <td>214544</td>\n",
       "      <td>55 61 Westbourne Terrace Westminster Borough L...</td>\n",
       "      <td>791</td>\n",
       "      <td>9/19/2016</td>\n",
       "      <td>7.3</td>\n",
       "      <td>Shaftesbury Premier London Paddington</td>\n",
       "      <td>India</td>\n",
       "      <td>This hotel has cheated us We have paid for a ...</td>\n",
       "      <td>122</td>\n",
       "      <td>...</td>\n",
       "      <td>5.0</td>\n",
       "      <td>[' Couple ', ' Deluxe Double Room ', ' Stayed ...</td>\n",
       "      <td>318 day</td>\n",
       "      <td>51.515367</td>\n",
       "      <td>-0.178327</td>\n",
       "      <td>BAD</td>\n",
       "      <td>11</td>\n",
       "      <td>554</td>\n",
       "      <td>BAD</td>\n",
       "      <td>{'GOOD': False, 'BAD': True}</td>\n",
       "    </tr>\n",
       "    <tr>\n",
       "      <th>9285</th>\n",
       "      <td>9766</td>\n",
       "      <td>109702</td>\n",
       "      <td>22 Hertsmere Road Tower Hamlets London E14 4ED...</td>\n",
       "      <td>930</td>\n",
       "      <td>11/10/2015</td>\n",
       "      <td>8.9</td>\n",
       "      <td>London Marriott Hotel West India Quay</td>\n",
       "      <td>United Kingdom</td>\n",
       "      <td>The bathroom was missing bathrobe and slipper...</td>\n",
       "      <td>17</td>\n",
       "      <td>...</td>\n",
       "      <td>9.6</td>\n",
       "      <td>[' Leisure trip ', ' Couple ', ' Deluxe King o...</td>\n",
       "      <td>632 day</td>\n",
       "      <td>51.507271</td>\n",
       "      <td>-0.021121</td>\n",
       "      <td>EXCELENT</td>\n",
       "      <td>30</td>\n",
       "      <td>88</td>\n",
       "      <td>GOOD</td>\n",
       "      <td>{'GOOD': True, 'BAD': False}</td>\n",
       "    </tr>\n",
       "  </tbody>\n",
       "</table>\n",
       "<p>21048 rows × 24 columns</p>\n",
       "</div>"
      ],
      "text/plain": [
       "       level_0   index                                      Hotel_Address  \\\n",
       "475     111691  238738  7 Pepys Street City of London London EC3N 4AF ...   \n",
       "6613     13935  253433  81 Great Eastern Street Islington London EC2A ...   \n",
       "21235    79696  130888  29 31 Gower Street Camden London WC1E 6HG Unit...   \n",
       "12414    99389  248063  8 Northumberland Avenue Westminster Borough Lo...   \n",
       "2508     52651   27417  101 Buckingham Palace Road Westminster Borough...   \n",
       "...        ...     ...                                                ...   \n",
       "18940    57168    3429  1 3 Queens Garden Westminster Borough London W...   \n",
       "15164    19764  444219  Scarsdale Place Kensington Kensington and Chel...   \n",
       "15506    23053  191144  44 Grosvenor Square Westminster Borough London...   \n",
       "17065    38525  214544  55 61 Westbourne Terrace Westminster Borough L...   \n",
       "9285      9766  109702  22 Hertsmere Road Tower Hamlets London E14 4ED...   \n",
       "\n",
       "       Additional_Number_of_Scoring Review_Date  Average_Score  \\\n",
       "475                            1936   3/28/2016            8.7   \n",
       "6613                            524  10/30/2016            9.0   \n",
       "21235                           457    4/8/2017            6.8   \n",
       "12414                           409   8/28/2016            8.3   \n",
       "2508                            838   6/19/2016            8.4   \n",
       "...                             ...         ...            ...   \n",
       "18940                          1058    4/9/2016            7.7   \n",
       "15164                          1831  11/22/2015            8.1   \n",
       "15506                           806   10/8/2016            7.8   \n",
       "17065                           791   9/19/2016            7.3   \n",
       "9285                            930  11/10/2015            8.9   \n",
       "\n",
       "                                              Hotel_Name  \\\n",
       "475    DoubleTree by Hilton Hotel London Tower of London   \n",
       "6613                               The Hoxton Shoreditch   \n",
       "21235                            Bloomsbury Palace Hotel   \n",
       "12414                      The Grand at Trafalgar Square   \n",
       "2508                                       The Grosvenor   \n",
       "...                                                  ...   \n",
       "18940                   The Park Grand London Paddington   \n",
       "15164             Copthorne Tara Hotel London Kensington   \n",
       "15506                    Millennium Hotel London Mayfair   \n",
       "17065              Shaftesbury Premier London Paddington   \n",
       "9285               London Marriott Hotel West India Quay   \n",
       "\n",
       "             Reviewer_Nationality  \\\n",
       "475               United Kingdom    \n",
       "6613              United Kingdom    \n",
       "21235                      Italy    \n",
       "12414             United Kingdom    \n",
       "2508                       Spain    \n",
       "...                           ...   \n",
       "18940               Saudi Arabia    \n",
       "15164             United Kingdom    \n",
       "15506   United States of America    \n",
       "17065                      India    \n",
       "9285              United Kingdom    \n",
       "\n",
       "                                         Negative_Review  \\\n",
       "475                            Overtly expensive sky bar   \n",
       "6613    No dressing gowns slippers or all night room ...   \n",
       "21235   Struttura molto sporca La camera non corrispo...   \n",
       "12414                                        No Negative   \n",
       "2508    A little more luxury for the price and the ic...   \n",
       "...                                                  ...   \n",
       "18940   Reaching room by stairs cause the left can bo...   \n",
       "15164                    The heating system need update    \n",
       "15506   No heating even after handy man came to try t...   \n",
       "17065   This hotel has cheated us We have paid for a ...   \n",
       "9285    The bathroom was missing bathrobe and slipper...   \n",
       "\n",
       "       Review_Total_Negative_Word_Counts  ...  Reviewer_Score  \\\n",
       "475                                    5  ...            10.0   \n",
       "6613                                  10  ...             8.3   \n",
       "21235                                 45  ...             5.0   \n",
       "12414                                  0  ...            10.0   \n",
       "2508                                  13  ...             8.3   \n",
       "...                                  ...  ...             ...   \n",
       "18940                                 13  ...             5.4   \n",
       "15164                                  7  ...             5.8   \n",
       "15506                                 26  ...             5.0   \n",
       "17065                                122  ...             5.0   \n",
       "9285                                  17  ...             9.6   \n",
       "\n",
       "                                                    Tags  days_since_review  \\\n",
       "475    [' Leisure trip ', ' Couple ', ' Queen Room Mo...            493 day   \n",
       "6613   [' Leisure trip ', ' Solo traveler ', ' Deluxe...            277 day   \n",
       "21235  [' Family with young children ', ' Triple Room...            117 day   \n",
       "12414  [' Leisure trip ', ' Couple ', ' Small Queen R...            340 day   \n",
       "2508   [' Leisure trip ', ' Couple ', ' Deluxe Double...            410 day   \n",
       "...                                                  ...                ...   \n",
       "18940  [' Leisure trip ', ' Group ', ' Deluxe Double ...            481 day   \n",
       "15164  [' Business trip ', ' Solo traveler ', ' Super...            620 day   \n",
       "15506  [' Business trip ', ' Couple ', ' Standard Dou...            299 day   \n",
       "17065  [' Couple ', ' Deluxe Double Room ', ' Stayed ...            318 day   \n",
       "9285   [' Leisure trip ', ' Couple ', ' Deluxe King o...            632 day   \n",
       "\n",
       "             lat       lng Reviewer_Score_discrete Pos_review_length  \\\n",
       "475    51.510841 -0.078058                EXCELENT                20   \n",
       "6613   51.525514 -0.082927                    GOOD                15   \n",
       "21235  51.520795 -0.131084                     BAD                18   \n",
       "12414  51.506935 -0.126012                EXCELENT                90   \n",
       "2508   51.495666 -0.145279                    GOOD                48   \n",
       "...          ...       ...                     ...               ...   \n",
       "18940  51.514218 -0.180903                     BAD                81   \n",
       "15164  51.499046 -0.191707                     BAD                11   \n",
       "15506  51.510574 -0.150995                     BAD                11   \n",
       "17065  51.515367 -0.178327                     BAD                11   \n",
       "9285   51.507271 -0.021121                EXCELENT                30   \n",
       "\n",
       "       Neg_review_length  coded                          cats  \n",
       "475                   26   GOOD  {'GOOD': True, 'BAD': False}  \n",
       "6613                  53   GOOD  {'GOOD': True, 'BAD': False}  \n",
       "21235                272    BAD  {'GOOD': False, 'BAD': True}  \n",
       "12414                 11   GOOD  {'GOOD': True, 'BAD': False}  \n",
       "2508                  56   GOOD  {'GOOD': True, 'BAD': False}  \n",
       "...                  ...    ...                           ...  \n",
       "18940                 62    BAD  {'GOOD': False, 'BAD': True}  \n",
       "15164                 32    BAD  {'GOOD': False, 'BAD': True}  \n",
       "15506                126    BAD  {'GOOD': False, 'BAD': True}  \n",
       "17065                554    BAD  {'GOOD': False, 'BAD': True}  \n",
       "9285                  88   GOOD  {'GOOD': True, 'BAD': False}  \n",
       "\n",
       "[21048 rows x 24 columns]"
      ]
     },
     "execution_count": 32,
     "metadata": {},
     "output_type": "execute_result"
    }
   ],
   "source": [
    "df_train"
   ]
  },
  {
   "cell_type": "markdown",
   "metadata": {},
   "source": [
    "# NLP ANALYSIS"
   ]
  },
  {
   "cell_type": "code",
   "execution_count": 33,
   "metadata": {},
   "outputs": [],
   "source": [
    "import spacy\n",
    "nlp = spacy.load(\"en_core_web_md\") "
   ]
  },
  {
   "cell_type": "code",
   "execution_count": 34,
   "metadata": {},
   "outputs": [
    {
     "data": {
      "text/html": [
       "<div>\n",
       "<style scoped>\n",
       "    .dataframe tbody tr th:only-of-type {\n",
       "        vertical-align: middle;\n",
       "    }\n",
       "\n",
       "    .dataframe tbody tr th {\n",
       "        vertical-align: top;\n",
       "    }\n",
       "\n",
       "    .dataframe thead th {\n",
       "        text-align: right;\n",
       "    }\n",
       "</style>\n",
       "<table border=\"1\" class=\"dataframe\">\n",
       "  <thead>\n",
       "    <tr style=\"text-align: right;\">\n",
       "      <th></th>\n",
       "      <th>Positive_Review</th>\n",
       "      <th>Negative_Review</th>\n",
       "      <th>Tags</th>\n",
       "    </tr>\n",
       "  </thead>\n",
       "  <tbody>\n",
       "    <tr>\n",
       "      <th>475</th>\n",
       "      <td>Excellent breakfast</td>\n",
       "      <td>Overtly expensive sky bar</td>\n",
       "      <td>[' Leisure trip ', ' Couple ', ' Queen Room Mo...</td>\n",
       "    </tr>\n",
       "    <tr>\n",
       "      <th>6613</th>\n",
       "      <td>Location staff</td>\n",
       "      <td>No dressing gowns slippers or all night room ...</td>\n",
       "      <td>[' Leisure trip ', ' Solo traveler ', ' Deluxe...</td>\n",
       "    </tr>\n",
       "    <tr>\n",
       "      <th>21235</th>\n",
       "      <td>Solo la posizione</td>\n",
       "      <td>Struttura molto sporca La camera non corrispo...</td>\n",
       "      <td>[' Family with young children ', ' Triple Room...</td>\n",
       "    </tr>\n",
       "    <tr>\n",
       "      <th>12414</th>\n",
       "      <td>Excellent location lovely nice clean modern r...</td>\n",
       "      <td>No Negative</td>\n",
       "      <td>[' Leisure trip ', ' Couple ', ' Small Queen R...</td>\n",
       "    </tr>\n",
       "    <tr>\n",
       "      <th>2508</th>\n",
       "      <td>Location very convenient for planned excursions</td>\n",
       "      <td>A little more luxury for the price and the ic...</td>\n",
       "      <td>[' Leisure trip ', ' Couple ', ' Deluxe Double...</td>\n",
       "    </tr>\n",
       "    <tr>\n",
       "      <th>...</th>\n",
       "      <td>...</td>\n",
       "      <td>...</td>\n",
       "      <td>...</td>\n",
       "    </tr>\n",
       "    <tr>\n",
       "      <th>18940</th>\n",
       "      <td>Without contac me They have to put me in diff...</td>\n",
       "      <td>Reaching room by stairs cause the left can bo...</td>\n",
       "      <td>[' Leisure trip ', ' Group ', ' Deluxe Double ...</td>\n",
       "    </tr>\n",
       "    <tr>\n",
       "      <th>15164</th>\n",
       "      <td>No Positive</td>\n",
       "      <td>The heating system need update</td>\n",
       "      <td>[' Business trip ', ' Solo traveler ', ' Super...</td>\n",
       "    </tr>\n",
       "    <tr>\n",
       "      <th>15506</th>\n",
       "      <td>No Positive</td>\n",
       "      <td>No heating even after handy man came to try t...</td>\n",
       "      <td>[' Business trip ', ' Couple ', ' Standard Dou...</td>\n",
       "    </tr>\n",
       "    <tr>\n",
       "      <th>17065</th>\n",
       "      <td>No Positive</td>\n",
       "      <td>This hotel has cheated us We have paid for a ...</td>\n",
       "      <td>[' Couple ', ' Deluxe Double Room ', ' Stayed ...</td>\n",
       "    </tr>\n",
       "    <tr>\n",
       "      <th>9285</th>\n",
       "      <td>Friendly helpful polte staff</td>\n",
       "      <td>The bathroom was missing bathrobe and slipper...</td>\n",
       "      <td>[' Leisure trip ', ' Couple ', ' Deluxe King o...</td>\n",
       "    </tr>\n",
       "  </tbody>\n",
       "</table>\n",
       "<p>21048 rows × 3 columns</p>\n",
       "</div>"
      ],
      "text/plain": [
       "                                         Positive_Review  \\\n",
       "475                                  Excellent breakfast   \n",
       "6613                                      Location staff   \n",
       "21235                                  Solo la posizione   \n",
       "12414   Excellent location lovely nice clean modern r...   \n",
       "2508     Location very convenient for planned excursions   \n",
       "...                                                  ...   \n",
       "18940   Without contac me They have to put me in diff...   \n",
       "15164                                        No Positive   \n",
       "15506                                        No Positive   \n",
       "17065                                        No Positive   \n",
       "9285                       Friendly helpful polte staff    \n",
       "\n",
       "                                         Negative_Review  \\\n",
       "475                            Overtly expensive sky bar   \n",
       "6613    No dressing gowns slippers or all night room ...   \n",
       "21235   Struttura molto sporca La camera non corrispo...   \n",
       "12414                                        No Negative   \n",
       "2508    A little more luxury for the price and the ic...   \n",
       "...                                                  ...   \n",
       "18940   Reaching room by stairs cause the left can bo...   \n",
       "15164                    The heating system need update    \n",
       "15506   No heating even after handy man came to try t...   \n",
       "17065   This hotel has cheated us We have paid for a ...   \n",
       "9285    The bathroom was missing bathrobe and slipper...   \n",
       "\n",
       "                                                    Tags  \n",
       "475    [' Leisure trip ', ' Couple ', ' Queen Room Mo...  \n",
       "6613   [' Leisure trip ', ' Solo traveler ', ' Deluxe...  \n",
       "21235  [' Family with young children ', ' Triple Room...  \n",
       "12414  [' Leisure trip ', ' Couple ', ' Small Queen R...  \n",
       "2508   [' Leisure trip ', ' Couple ', ' Deluxe Double...  \n",
       "...                                                  ...  \n",
       "18940  [' Leisure trip ', ' Group ', ' Deluxe Double ...  \n",
       "15164  [' Business trip ', ' Solo traveler ', ' Super...  \n",
       "15506  [' Business trip ', ' Couple ', ' Standard Dou...  \n",
       "17065  [' Couple ', ' Deluxe Double Room ', ' Stayed ...  \n",
       "9285   [' Leisure trip ', ' Couple ', ' Deluxe King o...  \n",
       "\n",
       "[21048 rows x 3 columns]"
      ]
     },
     "execution_count": 34,
     "metadata": {},
     "output_type": "execute_result"
    }
   ],
   "source": [
    "df_train.loc[:, ['Positive_Review', 'Negative_Review', 'Tags']]"
   ]
  },
  {
   "cell_type": "markdown",
   "metadata": {},
   "source": [
    "#### Show us Randomly selected k (k = 2) positive and negative reviews."
   ]
  },
  {
   "cell_type": "code",
   "execution_count": 35,
   "metadata": {},
   "outputs": [
    {
     "name": "stdout",
     "output_type": "stream",
     "text": [
      "Positive reviews - random 2 sentences\n",
      "\n",
      "['No Positive', ' Location and quietness of the eara']\n",
      "\n",
      "\n",
      "Negative reviews - random 2 sentences\n",
      "\n",
      "[' Difficult to get to 1st nite of stay air conditioning unit wasn t working so made the nite a very difficult sleep Second nite after requesting engineer to fix the air conditioning My room had a water leak and had to move rooms midnight of our last night No concerns from the staff no help for bags to be assisted in moving rooms No complimentary offers Had to complain to stand in supervisor who seemed unhelpful till I said I know the CEO of Hilton hotels Overall hotel stay was not the best The hotel itself was pleasant but the service given was not good at all and left a bad taste in our mouths ', ' No water to our 2nd floor room water pressure problem for whole premises ']\n"
     ]
    }
   ],
   "source": [
    "import random\n",
    "\n",
    "# Type of reviews\n",
    "positive = [_ for _  in df_train.Positive_Review]\n",
    "negative = [_ for _  in df_train.Negative_Review]\n",
    "\n",
    "# how many to show\n",
    "k = 2\n",
    "\n",
    "print(f\"Positive reviews - random {k} sentences\")\n",
    "print()\n",
    "print(random.choices(positive, k = k))\n",
    "\n",
    "print()\n",
    "print()\n",
    "\n",
    "print(f\"Negative reviews - random {k} sentences\")\n",
    "print()\n",
    "print(random.choices(negative, k = k))"
   ]
  },
  {
   "cell_type": "markdown",
   "metadata": {},
   "source": [
    "#### Show us the structure of one randomly seelcted bad review"
   ]
  },
  {
   "cell_type": "code",
   "execution_count": 36,
   "metadata": {},
   "outputs": [
    {
     "data": {
      "text/html": [
       "<span class=\"tex2jax_ignore\"><svg xmlns=\"http://www.w3.org/2000/svg\" xmlns:xlink=\"http://www.w3.org/1999/xlink\" xml:lang=\"en\" id=\"654be4ce6b2e4f4892ae55dca7eaa88c-0\" class=\"displacy\" width=\"4600\" height=\"574.5\" direction=\"ltr\" style=\"max-width: none; height: 574.5px; color: #000000; background: #ffffff; font-family: Arial; direction: ltr\">\n",
       "<text class=\"displacy-token\" fill=\"currentColor\" text-anchor=\"middle\" y=\"484.5\">\n",
       "    <tspan class=\"displacy-word\" fill=\"currentColor\" x=\"50\"> </tspan>\n",
       "    <tspan class=\"displacy-tag\" dy=\"2em\" fill=\"currentColor\" x=\"50\">SPACE</tspan>\n",
       "</text>\n",
       "\n",
       "<text class=\"displacy-token\" fill=\"currentColor\" text-anchor=\"middle\" y=\"484.5\">\n",
       "    <tspan class=\"displacy-word\" fill=\"currentColor\" x=\"225\">Everthing</tspan>\n",
       "    <tspan class=\"displacy-tag\" dy=\"2em\" fill=\"currentColor\" x=\"225\">NOUN</tspan>\n",
       "</text>\n",
       "\n",
       "<text class=\"displacy-token\" fill=\"currentColor\" text-anchor=\"middle\" y=\"484.5\">\n",
       "    <tspan class=\"displacy-word\" fill=\"currentColor\" x=\"400\">is</tspan>\n",
       "    <tspan class=\"displacy-tag\" dy=\"2em\" fill=\"currentColor\" x=\"400\">AUX</tspan>\n",
       "</text>\n",
       "\n",
       "<text class=\"displacy-token\" fill=\"currentColor\" text-anchor=\"middle\" y=\"484.5\">\n",
       "    <tspan class=\"displacy-word\" fill=\"currentColor\" x=\"575\">so</tspan>\n",
       "    <tspan class=\"displacy-tag\" dy=\"2em\" fill=\"currentColor\" x=\"575\">ADV</tspan>\n",
       "</text>\n",
       "\n",
       "<text class=\"displacy-token\" fill=\"currentColor\" text-anchor=\"middle\" y=\"484.5\">\n",
       "    <tspan class=\"displacy-word\" fill=\"currentColor\" x=\"750\">bad</tspan>\n",
       "    <tspan class=\"displacy-tag\" dy=\"2em\" fill=\"currentColor\" x=\"750\">ADJ</tspan>\n",
       "</text>\n",
       "\n",
       "<text class=\"displacy-token\" fill=\"currentColor\" text-anchor=\"middle\" y=\"484.5\">\n",
       "    <tspan class=\"displacy-word\" fill=\"currentColor\" x=\"925\">The</tspan>\n",
       "    <tspan class=\"displacy-tag\" dy=\"2em\" fill=\"currentColor\" x=\"925\">DET</tspan>\n",
       "</text>\n",
       "\n",
       "<text class=\"displacy-token\" fill=\"currentColor\" text-anchor=\"middle\" y=\"484.5\">\n",
       "    <tspan class=\"displacy-word\" fill=\"currentColor\" x=\"1100\">room</tspan>\n",
       "    <tspan class=\"displacy-tag\" dy=\"2em\" fill=\"currentColor\" x=\"1100\">NOUN</tspan>\n",
       "</text>\n",
       "\n",
       "<text class=\"displacy-token\" fill=\"currentColor\" text-anchor=\"middle\" y=\"484.5\">\n",
       "    <tspan class=\"displacy-word\" fill=\"currentColor\" x=\"1275\">is</tspan>\n",
       "    <tspan class=\"displacy-tag\" dy=\"2em\" fill=\"currentColor\" x=\"1275\">AUX</tspan>\n",
       "</text>\n",
       "\n",
       "<text class=\"displacy-token\" fill=\"currentColor\" text-anchor=\"middle\" y=\"484.5\">\n",
       "    <tspan class=\"displacy-word\" fill=\"currentColor\" x=\"1450\">very</tspan>\n",
       "    <tspan class=\"displacy-tag\" dy=\"2em\" fill=\"currentColor\" x=\"1450\">ADV</tspan>\n",
       "</text>\n",
       "\n",
       "<text class=\"displacy-token\" fill=\"currentColor\" text-anchor=\"middle\" y=\"484.5\">\n",
       "    <tspan class=\"displacy-word\" fill=\"currentColor\" x=\"1625\">small</tspan>\n",
       "    <tspan class=\"displacy-tag\" dy=\"2em\" fill=\"currentColor\" x=\"1625\">ADJ</tspan>\n",
       "</text>\n",
       "\n",
       "<text class=\"displacy-token\" fill=\"currentColor\" text-anchor=\"middle\" y=\"484.5\">\n",
       "    <tspan class=\"displacy-word\" fill=\"currentColor\" x=\"1800\">Breakfast</tspan>\n",
       "    <tspan class=\"displacy-tag\" dy=\"2em\" fill=\"currentColor\" x=\"1800\">PROPN</tspan>\n",
       "</text>\n",
       "\n",
       "<text class=\"displacy-token\" fill=\"currentColor\" text-anchor=\"middle\" y=\"484.5\">\n",
       "    <tspan class=\"displacy-word\" fill=\"currentColor\" x=\"1975\">is</tspan>\n",
       "    <tspan class=\"displacy-tag\" dy=\"2em\" fill=\"currentColor\" x=\"1975\">AUX</tspan>\n",
       "</text>\n",
       "\n",
       "<text class=\"displacy-token\" fill=\"currentColor\" text-anchor=\"middle\" y=\"484.5\">\n",
       "    <tspan class=\"displacy-word\" fill=\"currentColor\" x=\"2150\">poorly</tspan>\n",
       "    <tspan class=\"displacy-tag\" dy=\"2em\" fill=\"currentColor\" x=\"2150\">ADV</tspan>\n",
       "</text>\n",
       "\n",
       "<text class=\"displacy-token\" fill=\"currentColor\" text-anchor=\"middle\" y=\"484.5\">\n",
       "    <tspan class=\"displacy-word\" fill=\"currentColor\" x=\"2325\">There</tspan>\n",
       "    <tspan class=\"displacy-tag\" dy=\"2em\" fill=\"currentColor\" x=\"2325\">PRON</tspan>\n",
       "</text>\n",
       "\n",
       "<text class=\"displacy-token\" fill=\"currentColor\" text-anchor=\"middle\" y=\"484.5\">\n",
       "    <tspan class=\"displacy-word\" fill=\"currentColor\" x=\"2500\">is</tspan>\n",
       "    <tspan class=\"displacy-tag\" dy=\"2em\" fill=\"currentColor\" x=\"2500\">AUX</tspan>\n",
       "</text>\n",
       "\n",
       "<text class=\"displacy-token\" fill=\"currentColor\" text-anchor=\"middle\" y=\"484.5\">\n",
       "    <tspan class=\"displacy-word\" fill=\"currentColor\" x=\"2675\">a</tspan>\n",
       "    <tspan class=\"displacy-tag\" dy=\"2em\" fill=\"currentColor\" x=\"2675\">DET</tspan>\n",
       "</text>\n",
       "\n",
       "<text class=\"displacy-token\" fill=\"currentColor\" text-anchor=\"middle\" y=\"484.5\">\n",
       "    <tspan class=\"displacy-word\" fill=\"currentColor\" x=\"2850\">no</tspan>\n",
       "    <tspan class=\"displacy-tag\" dy=\"2em\" fill=\"currentColor\" x=\"2850\">DET</tspan>\n",
       "</text>\n",
       "\n",
       "<text class=\"displacy-token\" fill=\"currentColor\" text-anchor=\"middle\" y=\"484.5\">\n",
       "    <tspan class=\"displacy-word\" fill=\"currentColor\" x=\"3025\">garson</tspan>\n",
       "    <tspan class=\"displacy-tag\" dy=\"2em\" fill=\"currentColor\" x=\"3025\">PROPN</tspan>\n",
       "</text>\n",
       "\n",
       "<text class=\"displacy-token\" fill=\"currentColor\" text-anchor=\"middle\" y=\"484.5\">\n",
       "    <tspan class=\"displacy-word\" fill=\"currentColor\" x=\"3200\">breakfast</tspan>\n",
       "    <tspan class=\"displacy-tag\" dy=\"2em\" fill=\"currentColor\" x=\"3200\">NOUN</tspan>\n",
       "</text>\n",
       "\n",
       "<text class=\"displacy-token\" fill=\"currentColor\" text-anchor=\"middle\" y=\"484.5\">\n",
       "    <tspan class=\"displacy-word\" fill=\"currentColor\" x=\"3375\">time</tspan>\n",
       "    <tspan class=\"displacy-tag\" dy=\"2em\" fill=\"currentColor\" x=\"3375\">NOUN</tspan>\n",
       "</text>\n",
       "\n",
       "<text class=\"displacy-token\" fill=\"currentColor\" text-anchor=\"middle\" y=\"484.5\">\n",
       "    <tspan class=\"displacy-word\" fill=\"currentColor\" x=\"3550\">Here</tspan>\n",
       "    <tspan class=\"displacy-tag\" dy=\"2em\" fill=\"currentColor\" x=\"3550\">ADV</tspan>\n",
       "</text>\n",
       "\n",
       "<text class=\"displacy-token\" fill=\"currentColor\" text-anchor=\"middle\" y=\"484.5\">\n",
       "    <tspan class=\"displacy-word\" fill=\"currentColor\" x=\"3725\">is</tspan>\n",
       "    <tspan class=\"displacy-tag\" dy=\"2em\" fill=\"currentColor\" x=\"3725\">AUX</tspan>\n",
       "</text>\n",
       "\n",
       "<text class=\"displacy-token\" fill=\"currentColor\" text-anchor=\"middle\" y=\"484.5\">\n",
       "    <tspan class=\"displacy-word\" fill=\"currentColor\" x=\"3900\">like</tspan>\n",
       "    <tspan class=\"displacy-tag\" dy=\"2em\" fill=\"currentColor\" x=\"3900\">SCONJ</tspan>\n",
       "</text>\n",
       "\n",
       "<text class=\"displacy-token\" fill=\"currentColor\" text-anchor=\"middle\" y=\"484.5\">\n",
       "    <tspan class=\"displacy-word\" fill=\"currentColor\" x=\"4075\">4</tspan>\n",
       "    <tspan class=\"displacy-tag\" dy=\"2em\" fill=\"currentColor\" x=\"4075\">NUM</tspan>\n",
       "</text>\n",
       "\n",
       "<text class=\"displacy-token\" fill=\"currentColor\" text-anchor=\"middle\" y=\"484.5\">\n",
       "    <tspan class=\"displacy-word\" fill=\"currentColor\" x=\"4250\">star</tspan>\n",
       "    <tspan class=\"displacy-tag\" dy=\"2em\" fill=\"currentColor\" x=\"4250\">NOUN</tspan>\n",
       "</text>\n",
       "\n",
       "<text class=\"displacy-token\" fill=\"currentColor\" text-anchor=\"middle\" y=\"484.5\">\n",
       "    <tspan class=\"displacy-word\" fill=\"currentColor\" x=\"4425\">hotel</tspan>\n",
       "    <tspan class=\"displacy-tag\" dy=\"2em\" fill=\"currentColor\" x=\"4425\">NOUN</tspan>\n",
       "</text>\n",
       "\n",
       "<g class=\"displacy-arrow\">\n",
       "    <path class=\"displacy-arc\" id=\"arrow-654be4ce6b2e4f4892ae55dca7eaa88c-0-0\" stroke-width=\"2px\" d=\"M70,439.5 C70,352.0 205.0,352.0 205.0,439.5\" fill=\"none\" stroke=\"currentColor\"/>\n",
       "    <text dy=\"1.25em\" style=\"font-size: 0.8em; letter-spacing: 1px\">\n",
       "        <textPath xlink:href=\"#arrow-654be4ce6b2e4f4892ae55dca7eaa88c-0-0\" class=\"displacy-label\" startOffset=\"50%\" side=\"left\" fill=\"currentColor\" text-anchor=\"middle\"></textPath>\n",
       "    </text>\n",
       "    <path class=\"displacy-arrowhead\" d=\"M70,441.5 L62,429.5 78,429.5\" fill=\"currentColor\"/>\n",
       "</g>\n",
       "\n",
       "<g class=\"displacy-arrow\">\n",
       "    <path class=\"displacy-arc\" id=\"arrow-654be4ce6b2e4f4892ae55dca7eaa88c-0-1\" stroke-width=\"2px\" d=\"M245,439.5 C245,352.0 380.0,352.0 380.0,439.5\" fill=\"none\" stroke=\"currentColor\"/>\n",
       "    <text dy=\"1.25em\" style=\"font-size: 0.8em; letter-spacing: 1px\">\n",
       "        <textPath xlink:href=\"#arrow-654be4ce6b2e4f4892ae55dca7eaa88c-0-1\" class=\"displacy-label\" startOffset=\"50%\" side=\"left\" fill=\"currentColor\" text-anchor=\"middle\">nsubj</textPath>\n",
       "    </text>\n",
       "    <path class=\"displacy-arrowhead\" d=\"M245,441.5 L237,429.5 253,429.5\" fill=\"currentColor\"/>\n",
       "</g>\n",
       "\n",
       "<g class=\"displacy-arrow\">\n",
       "    <path class=\"displacy-arc\" id=\"arrow-654be4ce6b2e4f4892ae55dca7eaa88c-0-2\" stroke-width=\"2px\" d=\"M595,439.5 C595,352.0 730.0,352.0 730.0,439.5\" fill=\"none\" stroke=\"currentColor\"/>\n",
       "    <text dy=\"1.25em\" style=\"font-size: 0.8em; letter-spacing: 1px\">\n",
       "        <textPath xlink:href=\"#arrow-654be4ce6b2e4f4892ae55dca7eaa88c-0-2\" class=\"displacy-label\" startOffset=\"50%\" side=\"left\" fill=\"currentColor\" text-anchor=\"middle\">advmod</textPath>\n",
       "    </text>\n",
       "    <path class=\"displacy-arrowhead\" d=\"M595,441.5 L587,429.5 603,429.5\" fill=\"currentColor\"/>\n",
       "</g>\n",
       "\n",
       "<g class=\"displacy-arrow\">\n",
       "    <path class=\"displacy-arc\" id=\"arrow-654be4ce6b2e4f4892ae55dca7eaa88c-0-3\" stroke-width=\"2px\" d=\"M420,439.5 C420,264.5 735.0,264.5 735.0,439.5\" fill=\"none\" stroke=\"currentColor\"/>\n",
       "    <text dy=\"1.25em\" style=\"font-size: 0.8em; letter-spacing: 1px\">\n",
       "        <textPath xlink:href=\"#arrow-654be4ce6b2e4f4892ae55dca7eaa88c-0-3\" class=\"displacy-label\" startOffset=\"50%\" side=\"left\" fill=\"currentColor\" text-anchor=\"middle\">acomp</textPath>\n",
       "    </text>\n",
       "    <path class=\"displacy-arrowhead\" d=\"M735.0,441.5 L743.0,429.5 727.0,429.5\" fill=\"currentColor\"/>\n",
       "</g>\n",
       "\n",
       "<g class=\"displacy-arrow\">\n",
       "    <path class=\"displacy-arc\" id=\"arrow-654be4ce6b2e4f4892ae55dca7eaa88c-0-4\" stroke-width=\"2px\" d=\"M945,439.5 C945,352.0 1080.0,352.0 1080.0,439.5\" fill=\"none\" stroke=\"currentColor\"/>\n",
       "    <text dy=\"1.25em\" style=\"font-size: 0.8em; letter-spacing: 1px\">\n",
       "        <textPath xlink:href=\"#arrow-654be4ce6b2e4f4892ae55dca7eaa88c-0-4\" class=\"displacy-label\" startOffset=\"50%\" side=\"left\" fill=\"currentColor\" text-anchor=\"middle\">det</textPath>\n",
       "    </text>\n",
       "    <path class=\"displacy-arrowhead\" d=\"M945,441.5 L937,429.5 953,429.5\" fill=\"currentColor\"/>\n",
       "</g>\n",
       "\n",
       "<g class=\"displacy-arrow\">\n",
       "    <path class=\"displacy-arc\" id=\"arrow-654be4ce6b2e4f4892ae55dca7eaa88c-0-5\" stroke-width=\"2px\" d=\"M1120,439.5 C1120,352.0 1255.0,352.0 1255.0,439.5\" fill=\"none\" stroke=\"currentColor\"/>\n",
       "    <text dy=\"1.25em\" style=\"font-size: 0.8em; letter-spacing: 1px\">\n",
       "        <textPath xlink:href=\"#arrow-654be4ce6b2e4f4892ae55dca7eaa88c-0-5\" class=\"displacy-label\" startOffset=\"50%\" side=\"left\" fill=\"currentColor\" text-anchor=\"middle\">nsubj</textPath>\n",
       "    </text>\n",
       "    <path class=\"displacy-arrowhead\" d=\"M1120,441.5 L1112,429.5 1128,429.5\" fill=\"currentColor\"/>\n",
       "</g>\n",
       "\n",
       "<g class=\"displacy-arrow\">\n",
       "    <path class=\"displacy-arc\" id=\"arrow-654be4ce6b2e4f4892ae55dca7eaa88c-0-6\" stroke-width=\"2px\" d=\"M1470,439.5 C1470,352.0 1605.0,352.0 1605.0,439.5\" fill=\"none\" stroke=\"currentColor\"/>\n",
       "    <text dy=\"1.25em\" style=\"font-size: 0.8em; letter-spacing: 1px\">\n",
       "        <textPath xlink:href=\"#arrow-654be4ce6b2e4f4892ae55dca7eaa88c-0-6\" class=\"displacy-label\" startOffset=\"50%\" side=\"left\" fill=\"currentColor\" text-anchor=\"middle\">advmod</textPath>\n",
       "    </text>\n",
       "    <path class=\"displacy-arrowhead\" d=\"M1470,441.5 L1462,429.5 1478,429.5\" fill=\"currentColor\"/>\n",
       "</g>\n",
       "\n",
       "<g class=\"displacy-arrow\">\n",
       "    <path class=\"displacy-arc\" id=\"arrow-654be4ce6b2e4f4892ae55dca7eaa88c-0-7\" stroke-width=\"2px\" d=\"M1645,439.5 C1645,352.0 1780.0,352.0 1780.0,439.5\" fill=\"none\" stroke=\"currentColor\"/>\n",
       "    <text dy=\"1.25em\" style=\"font-size: 0.8em; letter-spacing: 1px\">\n",
       "        <textPath xlink:href=\"#arrow-654be4ce6b2e4f4892ae55dca7eaa88c-0-7\" class=\"displacy-label\" startOffset=\"50%\" side=\"left\" fill=\"currentColor\" text-anchor=\"middle\">amod</textPath>\n",
       "    </text>\n",
       "    <path class=\"displacy-arrowhead\" d=\"M1645,441.5 L1637,429.5 1653,429.5\" fill=\"currentColor\"/>\n",
       "</g>\n",
       "\n",
       "<g class=\"displacy-arrow\">\n",
       "    <path class=\"displacy-arc\" id=\"arrow-654be4ce6b2e4f4892ae55dca7eaa88c-0-8\" stroke-width=\"2px\" d=\"M1820,439.5 C1820,352.0 1955.0,352.0 1955.0,439.5\" fill=\"none\" stroke=\"currentColor\"/>\n",
       "    <text dy=\"1.25em\" style=\"font-size: 0.8em; letter-spacing: 1px\">\n",
       "        <textPath xlink:href=\"#arrow-654be4ce6b2e4f4892ae55dca7eaa88c-0-8\" class=\"displacy-label\" startOffset=\"50%\" side=\"left\" fill=\"currentColor\" text-anchor=\"middle\">nsubj</textPath>\n",
       "    </text>\n",
       "    <path class=\"displacy-arrowhead\" d=\"M1820,441.5 L1812,429.5 1828,429.5\" fill=\"currentColor\"/>\n",
       "</g>\n",
       "\n",
       "<g class=\"displacy-arrow\">\n",
       "    <path class=\"displacy-arc\" id=\"arrow-654be4ce6b2e4f4892ae55dca7eaa88c-0-9\" stroke-width=\"2px\" d=\"M1295,439.5 C1295,89.5 1970.0,89.5 1970.0,439.5\" fill=\"none\" stroke=\"currentColor\"/>\n",
       "    <text dy=\"1.25em\" style=\"font-size: 0.8em; letter-spacing: 1px\">\n",
       "        <textPath xlink:href=\"#arrow-654be4ce6b2e4f4892ae55dca7eaa88c-0-9\" class=\"displacy-label\" startOffset=\"50%\" side=\"left\" fill=\"currentColor\" text-anchor=\"middle\">ccomp</textPath>\n",
       "    </text>\n",
       "    <path class=\"displacy-arrowhead\" d=\"M1970.0,441.5 L1978.0,429.5 1962.0,429.5\" fill=\"currentColor\"/>\n",
       "</g>\n",
       "\n",
       "<g class=\"displacy-arrow\">\n",
       "    <path class=\"displacy-arc\" id=\"arrow-654be4ce6b2e4f4892ae55dca7eaa88c-0-10\" stroke-width=\"2px\" d=\"M1995,439.5 C1995,352.0 2130.0,352.0 2130.0,439.5\" fill=\"none\" stroke=\"currentColor\"/>\n",
       "    <text dy=\"1.25em\" style=\"font-size: 0.8em; letter-spacing: 1px\">\n",
       "        <textPath xlink:href=\"#arrow-654be4ce6b2e4f4892ae55dca7eaa88c-0-10\" class=\"displacy-label\" startOffset=\"50%\" side=\"left\" fill=\"currentColor\" text-anchor=\"middle\">advmod</textPath>\n",
       "    </text>\n",
       "    <path class=\"displacy-arrowhead\" d=\"M2130.0,441.5 L2138.0,429.5 2122.0,429.5\" fill=\"currentColor\"/>\n",
       "</g>\n",
       "\n",
       "<g class=\"displacy-arrow\">\n",
       "    <path class=\"displacy-arc\" id=\"arrow-654be4ce6b2e4f4892ae55dca7eaa88c-0-11\" stroke-width=\"2px\" d=\"M2345,439.5 C2345,352.0 2480.0,352.0 2480.0,439.5\" fill=\"none\" stroke=\"currentColor\"/>\n",
       "    <text dy=\"1.25em\" style=\"font-size: 0.8em; letter-spacing: 1px\">\n",
       "        <textPath xlink:href=\"#arrow-654be4ce6b2e4f4892ae55dca7eaa88c-0-11\" class=\"displacy-label\" startOffset=\"50%\" side=\"left\" fill=\"currentColor\" text-anchor=\"middle\">expl</textPath>\n",
       "    </text>\n",
       "    <path class=\"displacy-arrowhead\" d=\"M2345,441.5 L2337,429.5 2353,429.5\" fill=\"currentColor\"/>\n",
       "</g>\n",
       "\n",
       "<g class=\"displacy-arrow\">\n",
       "    <path class=\"displacy-arc\" id=\"arrow-654be4ce6b2e4f4892ae55dca7eaa88c-0-12\" stroke-width=\"2px\" d=\"M2695,439.5 C2695,89.5 3370.0,89.5 3370.0,439.5\" fill=\"none\" stroke=\"currentColor\"/>\n",
       "    <text dy=\"1.25em\" style=\"font-size: 0.8em; letter-spacing: 1px\">\n",
       "        <textPath xlink:href=\"#arrow-654be4ce6b2e4f4892ae55dca7eaa88c-0-12\" class=\"displacy-label\" startOffset=\"50%\" side=\"left\" fill=\"currentColor\" text-anchor=\"middle\">det</textPath>\n",
       "    </text>\n",
       "    <path class=\"displacy-arrowhead\" d=\"M2695,441.5 L2687,429.5 2703,429.5\" fill=\"currentColor\"/>\n",
       "</g>\n",
       "\n",
       "<g class=\"displacy-arrow\">\n",
       "    <path class=\"displacy-arc\" id=\"arrow-654be4ce6b2e4f4892ae55dca7eaa88c-0-13\" stroke-width=\"2px\" d=\"M2870,439.5 C2870,352.0 3005.0,352.0 3005.0,439.5\" fill=\"none\" stroke=\"currentColor\"/>\n",
       "    <text dy=\"1.25em\" style=\"font-size: 0.8em; letter-spacing: 1px\">\n",
       "        <textPath xlink:href=\"#arrow-654be4ce6b2e4f4892ae55dca7eaa88c-0-13\" class=\"displacy-label\" startOffset=\"50%\" side=\"left\" fill=\"currentColor\" text-anchor=\"middle\">neg</textPath>\n",
       "    </text>\n",
       "    <path class=\"displacy-arrowhead\" d=\"M2870,441.5 L2862,429.5 2878,429.5\" fill=\"currentColor\"/>\n",
       "</g>\n",
       "\n",
       "<g class=\"displacy-arrow\">\n",
       "    <path class=\"displacy-arc\" id=\"arrow-654be4ce6b2e4f4892ae55dca7eaa88c-0-14\" stroke-width=\"2px\" d=\"M2695,439.5 C2695,264.5 3010.0,264.5 3010.0,439.5\" fill=\"none\" stroke=\"currentColor\"/>\n",
       "    <text dy=\"1.25em\" style=\"font-size: 0.8em; letter-spacing: 1px\">\n",
       "        <textPath xlink:href=\"#arrow-654be4ce6b2e4f4892ae55dca7eaa88c-0-14\" class=\"displacy-label\" startOffset=\"50%\" side=\"left\" fill=\"currentColor\" text-anchor=\"middle\">pobj</textPath>\n",
       "    </text>\n",
       "    <path class=\"displacy-arrowhead\" d=\"M3010.0,441.5 L3018.0,429.5 3002.0,429.5\" fill=\"currentColor\"/>\n",
       "</g>\n",
       "\n",
       "<g class=\"displacy-arrow\">\n",
       "    <path class=\"displacy-arc\" id=\"arrow-654be4ce6b2e4f4892ae55dca7eaa88c-0-15\" stroke-width=\"2px\" d=\"M3220,439.5 C3220,352.0 3355.0,352.0 3355.0,439.5\" fill=\"none\" stroke=\"currentColor\"/>\n",
       "    <text dy=\"1.25em\" style=\"font-size: 0.8em; letter-spacing: 1px\">\n",
       "        <textPath xlink:href=\"#arrow-654be4ce6b2e4f4892ae55dca7eaa88c-0-15\" class=\"displacy-label\" startOffset=\"50%\" side=\"left\" fill=\"currentColor\" text-anchor=\"middle\">compound</textPath>\n",
       "    </text>\n",
       "    <path class=\"displacy-arrowhead\" d=\"M3220,441.5 L3212,429.5 3228,429.5\" fill=\"currentColor\"/>\n",
       "</g>\n",
       "\n",
       "<g class=\"displacy-arrow\">\n",
       "    <path class=\"displacy-arc\" id=\"arrow-654be4ce6b2e4f4892ae55dca7eaa88c-0-16\" stroke-width=\"2px\" d=\"M2520,439.5 C2520,2.0 3375.0,2.0 3375.0,439.5\" fill=\"none\" stroke=\"currentColor\"/>\n",
       "    <text dy=\"1.25em\" style=\"font-size: 0.8em; letter-spacing: 1px\">\n",
       "        <textPath xlink:href=\"#arrow-654be4ce6b2e4f4892ae55dca7eaa88c-0-16\" class=\"displacy-label\" startOffset=\"50%\" side=\"left\" fill=\"currentColor\" text-anchor=\"middle\">attr</textPath>\n",
       "    </text>\n",
       "    <path class=\"displacy-arrowhead\" d=\"M3375.0,441.5 L3383.0,429.5 3367.0,429.5\" fill=\"currentColor\"/>\n",
       "</g>\n",
       "\n",
       "<g class=\"displacy-arrow\">\n",
       "    <path class=\"displacy-arc\" id=\"arrow-654be4ce6b2e4f4892ae55dca7eaa88c-0-17\" stroke-width=\"2px\" d=\"M3570,439.5 C3570,352.0 3705.0,352.0 3705.0,439.5\" fill=\"none\" stroke=\"currentColor\"/>\n",
       "    <text dy=\"1.25em\" style=\"font-size: 0.8em; letter-spacing: 1px\">\n",
       "        <textPath xlink:href=\"#arrow-654be4ce6b2e4f4892ae55dca7eaa88c-0-17\" class=\"displacy-label\" startOffset=\"50%\" side=\"left\" fill=\"currentColor\" text-anchor=\"middle\">advmod</textPath>\n",
       "    </text>\n",
       "    <path class=\"displacy-arrowhead\" d=\"M3570,441.5 L3562,429.5 3578,429.5\" fill=\"currentColor\"/>\n",
       "</g>\n",
       "\n",
       "<g class=\"displacy-arrow\">\n",
       "    <path class=\"displacy-arc\" id=\"arrow-654be4ce6b2e4f4892ae55dca7eaa88c-0-18\" stroke-width=\"2px\" d=\"M3395,439.5 C3395,264.5 3710.0,264.5 3710.0,439.5\" fill=\"none\" stroke=\"currentColor\"/>\n",
       "    <text dy=\"1.25em\" style=\"font-size: 0.8em; letter-spacing: 1px\">\n",
       "        <textPath xlink:href=\"#arrow-654be4ce6b2e4f4892ae55dca7eaa88c-0-18\" class=\"displacy-label\" startOffset=\"50%\" side=\"left\" fill=\"currentColor\" text-anchor=\"middle\">relcl</textPath>\n",
       "    </text>\n",
       "    <path class=\"displacy-arrowhead\" d=\"M3710.0,441.5 L3718.0,429.5 3702.0,429.5\" fill=\"currentColor\"/>\n",
       "</g>\n",
       "\n",
       "<g class=\"displacy-arrow\">\n",
       "    <path class=\"displacy-arc\" id=\"arrow-654be4ce6b2e4f4892ae55dca7eaa88c-0-19\" stroke-width=\"2px\" d=\"M3745,439.5 C3745,352.0 3880.0,352.0 3880.0,439.5\" fill=\"none\" stroke=\"currentColor\"/>\n",
       "    <text dy=\"1.25em\" style=\"font-size: 0.8em; letter-spacing: 1px\">\n",
       "        <textPath xlink:href=\"#arrow-654be4ce6b2e4f4892ae55dca7eaa88c-0-19\" class=\"displacy-label\" startOffset=\"50%\" side=\"left\" fill=\"currentColor\" text-anchor=\"middle\">prep</textPath>\n",
       "    </text>\n",
       "    <path class=\"displacy-arrowhead\" d=\"M3880.0,441.5 L3888.0,429.5 3872.0,429.5\" fill=\"currentColor\"/>\n",
       "</g>\n",
       "\n",
       "<g class=\"displacy-arrow\">\n",
       "    <path class=\"displacy-arc\" id=\"arrow-654be4ce6b2e4f4892ae55dca7eaa88c-0-20\" stroke-width=\"2px\" d=\"M4095,439.5 C4095,264.5 4410.0,264.5 4410.0,439.5\" fill=\"none\" stroke=\"currentColor\"/>\n",
       "    <text dy=\"1.25em\" style=\"font-size: 0.8em; letter-spacing: 1px\">\n",
       "        <textPath xlink:href=\"#arrow-654be4ce6b2e4f4892ae55dca7eaa88c-0-20\" class=\"displacy-label\" startOffset=\"50%\" side=\"left\" fill=\"currentColor\" text-anchor=\"middle\">nummod</textPath>\n",
       "    </text>\n",
       "    <path class=\"displacy-arrowhead\" d=\"M4095,441.5 L4087,429.5 4103,429.5\" fill=\"currentColor\"/>\n",
       "</g>\n",
       "\n",
       "<g class=\"displacy-arrow\">\n",
       "    <path class=\"displacy-arc\" id=\"arrow-654be4ce6b2e4f4892ae55dca7eaa88c-0-21\" stroke-width=\"2px\" d=\"M4270,439.5 C4270,352.0 4405.0,352.0 4405.0,439.5\" fill=\"none\" stroke=\"currentColor\"/>\n",
       "    <text dy=\"1.25em\" style=\"font-size: 0.8em; letter-spacing: 1px\">\n",
       "        <textPath xlink:href=\"#arrow-654be4ce6b2e4f4892ae55dca7eaa88c-0-21\" class=\"displacy-label\" startOffset=\"50%\" side=\"left\" fill=\"currentColor\" text-anchor=\"middle\">compound</textPath>\n",
       "    </text>\n",
       "    <path class=\"displacy-arrowhead\" d=\"M4270,441.5 L4262,429.5 4278,429.5\" fill=\"currentColor\"/>\n",
       "</g>\n",
       "\n",
       "<g class=\"displacy-arrow\">\n",
       "    <path class=\"displacy-arc\" id=\"arrow-654be4ce6b2e4f4892ae55dca7eaa88c-0-22\" stroke-width=\"2px\" d=\"M3920,439.5 C3920,177.0 4415.0,177.0 4415.0,439.5\" fill=\"none\" stroke=\"currentColor\"/>\n",
       "    <text dy=\"1.25em\" style=\"font-size: 0.8em; letter-spacing: 1px\">\n",
       "        <textPath xlink:href=\"#arrow-654be4ce6b2e4f4892ae55dca7eaa88c-0-22\" class=\"displacy-label\" startOffset=\"50%\" side=\"left\" fill=\"currentColor\" text-anchor=\"middle\">pobj</textPath>\n",
       "    </text>\n",
       "    <path class=\"displacy-arrowhead\" d=\"M4415.0,441.5 L4423.0,429.5 4407.0,429.5\" fill=\"currentColor\"/>\n",
       "</g>\n",
       "</svg></span>"
      ],
      "text/plain": [
       "<IPython.core.display.HTML object>"
      ]
     },
     "metadata": {},
     "output_type": "display_data"
    }
   ],
   "source": [
    "from spacy import displacy\n",
    "\n",
    "# Help founded here: https://www.journaldev.com/23674/python-remove-character-from-string\n",
    "\n",
    "AA = str(random.choices(negative, k = 1))\n",
    "AA = AA.translate({ord(i): None for i in '\"[]\\''})\n",
    "\n",
    "Negative = nlp(AA)\n",
    "\n",
    "displacy.render(Negative)"
   ]
  },
  {
   "cell_type": "markdown",
   "metadata": {},
   "source": [
    "#### Iterate over word in the sentence and give us their meaning"
   ]
  },
  {
   "cell_type": "code",
   "execution_count": 37,
   "metadata": {},
   "outputs": [
    {
     "name": "stdout",
     "output_type": "stream",
     "text": [
      "Everthing NOUN nsubj\n",
      "is AUX ROOT\n",
      "so ADV advmod\n",
      "bad ADJ acomp\n",
      "The DET det\n",
      "room NOUN nsubj\n",
      "is AUX ROOT\n",
      "very ADV advmod\n",
      "small ADJ amod\n",
      "Breakfast PROPN nsubj\n",
      "is AUX ccomp\n",
      "poorly ADV advmod\n",
      "There PRON expl\n",
      "is AUX ROOT\n",
      "a DET det\n",
      "no DET neg\n",
      "garson PROPN pobj\n",
      "breakfast NOUN compound\n",
      "time NOUN attr\n",
      "Here ADV advmod\n",
      "is AUX relcl\n",
      "like SCONJ prep\n",
      "4 NUM nummod\n",
      "star NOUN compound\n",
      "hotel NOUN pobj\n"
     ]
    }
   ],
   "source": [
    "for i in Negative:\n",
    "    if i.pos_ != 'SPACE':\n",
    "            print(i, i.pos_, i.dep_)"
   ]
  },
  {
   "cell_type": "code",
   "execution_count": 38,
   "metadata": {},
   "outputs": [
    {
     "data": {
      "text/plain": [
       "[(' Excellent breakfast', {'cats': {'GOOD': True, 'BAD': False}}),\n",
       " (' Location staff', {'cats': {'GOOD': True, 'BAD': False}}),\n",
       " (' Solo la posizione', {'cats': {'GOOD': False, 'BAD': True}})]"
      ]
     },
     "execution_count": 38,
     "metadata": {},
     "output_type": "execute_result"
    }
   ],
   "source": [
    "train_data[:3]"
   ]
  },
  {
   "cell_type": "code",
   "execution_count": 39,
   "metadata": {},
   "outputs": [],
   "source": [
    "textcat = nlp.create_pipe(\"textcat\",\n",
    "                          config={\"exclusive_classes\": True,\n",
    "                                  \"architecture\": \"simple_cnn\"})"
   ]
  },
  {
   "cell_type": "code",
   "execution_count": 40,
   "metadata": {},
   "outputs": [],
   "source": [
    "nlp.add_pipe(textcat, last=True)"
   ]
  },
  {
   "cell_type": "code",
   "execution_count": 41,
   "metadata": {},
   "outputs": [
    {
     "data": {
      "text/plain": [
       "('GOOD', 'BAD')"
      ]
     },
     "execution_count": 41,
     "metadata": {},
     "output_type": "execute_result"
    }
   ],
   "source": [
    "textcat.add_label(\"GOOD\")\n",
    "textcat.add_label(\"BAD\")\n",
    "\n",
    "textcat.labels # výpis pro ověření"
   ]
  },
  {
   "cell_type": "code",
   "execution_count": 42,
   "metadata": {},
   "outputs": [],
   "source": [
    "from spacy.util import minibatch, compounding"
   ]
  },
  {
   "cell_type": "code",
   "execution_count": 43,
   "metadata": {},
   "outputs": [
    {
     "name": "stdout",
     "output_type": "stream",
     "text": [
      "1.0\n",
      "1.5\n",
      "2.25\n",
      "3.375\n",
      "5.0625\n",
      "7.59375\n",
      "11.390625\n",
      "17.0859375\n",
      "25.62890625\n",
      "32.0\n",
      "32.0\n",
      "32.0\n"
     ]
    }
   ],
   "source": [
    "batch_sizes = compounding(1.0, 32.0, 1.5)\n",
    "for x in range(12): print(next(batch_sizes))"
   ]
  },
  {
   "cell_type": "code",
   "execution_count": 44,
   "metadata": {},
   "outputs": [
    {
     "name": "stdout",
     "output_type": "stream",
     "text": [
      "\n",
      "batch: 1 [(' Location staff', {'cats': {'GOOD': True, 'BAD': False}})]\n",
      "\n",
      "batch: 1 [(' Solo la posizione', {'cats': {'GOOD': False, 'BAD': True}})]\n",
      "\n",
      "batch: 2 [(' Excellent location lovely nice clean modern rooms Great value for money well recommended ', {'cats': {'GOOD': True, 'BAD': False}}), (' Location very convenient for planned excursions', {'cats': {'GOOD': True, 'BAD': False}})]\n"
     ]
    }
   ],
   "source": [
    "batch_sizes = compounding(1.0, 4.0, 1.5)\n",
    "for batch in minibatch(train_data[1:5], size=batch_sizes):\n",
    "    print(\"\\nbatch:\", len(batch), batch)"
   ]
  },
  {
   "cell_type": "markdown",
   "metadata": {},
   "source": [
    "### Classifier for BAD and GOOD score based on just positive reviews\n",
    "Based on code above, we split data set on train and test sample with 80% rate.\n",
    "\n",
    "We also use only *2* number of iteration, and dropout rate *75%*. "
   ]
  },
  {
   "cell_type": "code",
   "execution_count": 45,
   "metadata": {},
   "outputs": [],
   "source": [
    "# number of iteration and dropout rate\n",
    "n_iter = 2\n",
    "dropout = 0.75"
   ]
  },
  {
   "cell_type": "code",
   "execution_count": 47,
   "metadata": {},
   "outputs": [],
   "source": [
    "# get names of other pipes to disable them during training\n",
    "pipe_exceptions = [\"textcat\"] #, \"trf_wordpiecer\", \"trf_tok2vec\"\n",
    "other_pipes = [pipe for pipe in nlp.pipe_names if pipe not in pipe_exceptions]"
   ]
  },
  {
   "cell_type": "code",
   "execution_count": 48,
   "metadata": {},
   "outputs": [],
   "source": [
    "from sklearn import metrics # funkce pro skóring\n",
    "import matplotlib.pyplot as plt # pro přístup k zobrazování grafu v iteracích\n",
    "import numpy as np # numpy pro generování náhodných čísel\n"
   ]
  },
  {
   "cell_type": "markdown",
   "metadata": {},
   "source": [
    "#### Model calculation based on lecture code"
   ]
  },
  {
   "cell_type": "code",
   "execution_count": 49,
   "metadata": {},
   "outputs": [
    {
     "name": "stdout",
     "output_type": "stream",
     "text": [
      "trénink.."
     ]
    }
   ],
   "source": [
    "score = pd.DataFrame() # dataframe pro výsledky\n",
    "print(\"trénink\", end=\"\") # začátek tisku průběhu na řádek\n",
    "\n",
    "with nlp.disable_pipes(other_pipes):  # s dočasně vypnutými ostatními pipes\n",
    "    \n",
    "    optimizer = nlp.begin_training() # vytvoření optimalizátoru    \n",
    "    \n",
    "    for i in range(n_iter): # iterace přes celou tréninkovou množinu (epocha)\n",
    "        print(\".\", end=\"\") # tisk průběhu další iterace na řádek\n",
    "        losses = {} # příprava pro ukládání informací o ztrátách        \n",
    "        random.shuffle(train_data) # zamíchání tréninkovou množinou\n",
    "        \n",
    "        batch_sizes = compounding(8.0, 40.0, 1.2) # inicializace počtu příkladů ve várkách\n",
    "        batches = minibatch(train_data, size=batch_sizes) # načtení příkladů ve várkách\n",
    "        \n",
    "        for batch in batches: # učení se na každé várce \n",
    "            texts, annotations = zip(*batch) # uložení polí dvojic do dvou separátních polí\n",
    "            \n",
    "            nlp.update(texts, annotations, sgd=optimizer, drop=dropout, losses=losses) # samotné učení\n",
    "        \n",
    "        with textcat.model.use_params(optimizer.averages): # s dočasnou aplikací aktualizovaného modelu\n",
    "            scorer = nlp.evaluate(test_data) # evaluace modelu na testovacích datech\n",
    "            \n",
    "            # vyplnění tabulky se skórem modelu v iteraci\n",
    "            score.loc[i, \"loss\"] = losses[\"textcat\"] # zapsání končené ztráty do tabulky\n",
    "            score.loc[i,\"F\"] = scorer.textcat_score            \n",
    "            score.loc[i,\"P+\"] = scorer.textcats_per_cat[\"GOOD\"][\"p\"]\n",
    "            score.loc[i,\"R+\"] = scorer.textcats_per_cat[\"GOOD\"][\"r\"]\n",
    "            score.loc[i,\"F+\"] = scorer.textcats_per_cat[\"GOOD\"][\"f\"]\n",
    "            score.loc[i,\"P-\"] = scorer.textcats_per_cat[\"GOOD\"][\"p\"]\n",
    "            score.loc[i,\"R-\"] = scorer.textcats_per_cat[\"GOOD\"][\"r\"]\n",
    "            score.loc[i,\"F-\"] = scorer.textcats_per_cat[\"GOOD\"][\"f\"]\n",
    "            \n",
    "            #alternativní skórování pomocí ROC a balíčku sklearn\n",
    "            docs_generator = nlp.pipe(df_test[\"Positive_Review\"]) # dávkové zpracování testovacích dokumentů\n",
    "            docs = list(docs_generator) # načtení testovacích dokumentů do listu\n",
    "            scores = [doc.cats[\"GOOD\"] for doc in docs] # načtení sentimentu do listu\n",
    "            \n",
    "            # kalkulace ROC\n",
    "            fpr, tpr, thresholds = metrics.roc_curve(y_true = df_test[\"coded\"], \n",
    "                                                     y_score = scores, \n",
    "                                                     pos_label = \"GOOD\")\n",
    "            \n",
    "            # vyplnění tabulky se skórem modelu v iteraci\n",
    "            score.loc[i,\"AUC\"] = metrics.auc(fpr, tpr)\n",
    "            "
   ]
  },
  {
   "cell_type": "markdown",
   "metadata": {},
   "source": [
    "### ROC curve Visualization"
   ]
  },
  {
   "cell_type": "code",
   "execution_count": 50,
   "metadata": {},
   "outputs": [
    {
     "data": {
      "image/png": "[encoded data removed]",
      "text/plain": [
       "<Figure size 432x288 with 1 Axes>"
      ]
     },
     "metadata": {},
     "output_type": "display_data"
    }
   ],
   "source": [
    "#alternativní skórování pomocí ROC a balíčku sklearn\n",
    "docs_generator = nlp.pipe(df_test[\"Positive_Review\"]) # dávkové zpracování testovacích dokumentů\n",
    "docs = list(docs_generator) # načtení testovacích dokumentů do listu\n",
    "scores = [doc.cats[\"GOOD\"] for doc in docs] # načtení sentimentu do listu\n",
    "\n",
    "# kalkulace ROC\n",
    "fpr, tpr, thresholds = metrics.roc_curve(y_true = df_test[\"coded\"], \n",
    "                                         y_score = scores, \n",
    "                                         pos_label = \"GOOD\")\n",
    "\n",
    "# zobrazení ROC grafu\n",
    "roc_plot = sns.lineplot(x=fpr, y=tpr, linewidth=2.5)\n",
    "roc_plot.set(xlabel='False Positive', ylabel='True Positive')\n",
    "plt.show() # zobrazení křivky za běhu buňky"
   ]
  },
  {
   "cell_type": "code",
   "execution_count": null,
   "metadata": {},
   "outputs": [],
   "source": []
  }
 ],
 "metadata": {
  "kernelspec": {
   "display_name": "Python 3",
   "language": "python",
   "name": "python3"
  },
  "language_info": {
   "codemirror_mode": {
    "name": "ipython",
    "version": 3
   },
   "file_extension": ".py",
   "mimetype": "text/x-python",
   "name": "python",
   "nbconvert_exporter": "python",
   "pygments_lexer": "ipython3",
   "version": "3.7.9"
  }
 },
 "nbformat": 4,
 "nbformat_minor": 4
}
